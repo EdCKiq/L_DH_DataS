{
 "cells": [
  {
   "cell_type": "markdown",
   "metadata": {},
   "source": [
    "# Prática Independente de Pandas 1."
   ]
  },
  {
   "cell_type": "markdown",
   "metadata": {},
   "source": [
    "### 1. Introdução.\n",
    "\n",
    "#### Diariamente, o Ministério da Saúde, por meio da Secretaria de Vigilância em Saúde (SVS/MS) divulga dados consolidados sobre o [COVID-19](https://covid.saude.gov.br/)."
   ]
  },
  {
   "cell_type": "markdown",
   "metadata": {},
   "source": [
    "#### Importamos os pacotes a serem usados."
   ]
  },
  {
   "cell_type": "code",
   "execution_count": 10,
   "metadata": {},
   "outputs": [],
   "source": [
    "import pandas as pd"
   ]
  },
  {
   "cell_type": "markdown",
   "metadata": {},
   "source": [
    "#### Importamos os dados a serem usados."
   ]
  },
  {
   "cell_type": "code",
   "execution_count": 11,
   "metadata": {},
   "outputs": [],
   "source": [
    "dataset = pd.read_csv('HIST_PAINEL_COVIDBR_12mai2021.csv',sep=';')"
   ]
  },
  {
   "cell_type": "code",
   "execution_count": 12,
   "metadata": {},
   "outputs": [
    {
     "data": {
      "text/plain": [
       "regiao                          0\n",
       "estado                        445\n",
       "municipio                   21058\n",
       "coduf                           0\n",
       "codmun                      12406\n",
       "codRegiaoSaude              21058\n",
       "nomeRegiaoSaude             21058\n",
       "data                            0\n",
       "semanaEpi                       0\n",
       "populacaoTCU2019             8652\n",
       "casosAcumulado                  0\n",
       "casosNovos                      0\n",
       "obitosAcumulado                 0\n",
       "obitosNovos                     0\n",
       "Recuperadosnovos          2315508\n",
       "emAcompanhamentoNovos     2315508\n",
       "interior/metropolitana      21058\n",
       "dtype: int64"
      ]
     },
     "execution_count": 12,
     "metadata": {},
     "output_type": "execute_result"
    }
   ],
   "source": [
    "dataset.head()\n",
    "dataset.isnull().sum()"
   ]
  },
  {
   "cell_type": "markdown",
   "metadata": {},
   "source": [
    "#### Exercício 1.1: Faça um slice no dataframe para considerar apenas os dados do estado de Minas Gerais."
   ]
  },
  {
   "cell_type": "code",
   "execution_count": 21,
   "metadata": {},
   "outputs": [
    {
     "data": {
      "text/html": [
       "<div>\n",
       "<style scoped>\n",
       "    .dataframe tbody tr th:only-of-type {\n",
       "        vertical-align: middle;\n",
       "    }\n",
       "\n",
       "    .dataframe tbody tr th {\n",
       "        vertical-align: top;\n",
       "    }\n",
       "\n",
       "    .dataframe thead th {\n",
       "        text-align: right;\n",
       "    }\n",
       "</style>\n",
       "<table border=\"1\" class=\"dataframe\">\n",
       "  <thead>\n",
       "    <tr style=\"text-align: right;\">\n",
       "      <th></th>\n",
       "      <th>regiao</th>\n",
       "      <th>estado</th>\n",
       "      <th>municipio</th>\n",
       "      <th>coduf</th>\n",
       "      <th>codmun</th>\n",
       "      <th>codRegiaoSaude</th>\n",
       "      <th>nomeRegiaoSaude</th>\n",
       "      <th>data</th>\n",
       "      <th>semanaEpi</th>\n",
       "      <th>populacaoTCU2019</th>\n",
       "      <th>casosAcumulado</th>\n",
       "      <th>casosNovos</th>\n",
       "      <th>obitosAcumulado</th>\n",
       "      <th>obitosNovos</th>\n",
       "      <th>Recuperadosnovos</th>\n",
       "      <th>emAcompanhamentoNovos</th>\n",
       "      <th>interior/metropolitana</th>\n",
       "    </tr>\n",
       "  </thead>\n",
       "  <tbody>\n",
       "    <tr>\n",
       "      <th>1293721</th>\n",
       "      <td>Sudeste</td>\n",
       "      <td>MG</td>\n",
       "      <td>Wenceslau Braz</td>\n",
       "      <td>31</td>\n",
       "      <td>317220.0</td>\n",
       "      <td>31003.0</td>\n",
       "      <td>ITAJUBA</td>\n",
       "      <td>2021-05-08</td>\n",
       "      <td>18</td>\n",
       "      <td>2552.0</td>\n",
       "      <td>146</td>\n",
       "      <td>4</td>\n",
       "      <td>4</td>\n",
       "      <td>0</td>\n",
       "      <td>NaN</td>\n",
       "      <td>NaN</td>\n",
       "      <td>0.0</td>\n",
       "    </tr>\n",
       "    <tr>\n",
       "      <th>1293722</th>\n",
       "      <td>Sudeste</td>\n",
       "      <td>MG</td>\n",
       "      <td>Wenceslau Braz</td>\n",
       "      <td>31</td>\n",
       "      <td>317220.0</td>\n",
       "      <td>31003.0</td>\n",
       "      <td>ITAJUBA</td>\n",
       "      <td>2021-05-09</td>\n",
       "      <td>19</td>\n",
       "      <td>2552.0</td>\n",
       "      <td>146</td>\n",
       "      <td>0</td>\n",
       "      <td>4</td>\n",
       "      <td>0</td>\n",
       "      <td>NaN</td>\n",
       "      <td>NaN</td>\n",
       "      <td>0.0</td>\n",
       "    </tr>\n",
       "    <tr>\n",
       "      <th>1293723</th>\n",
       "      <td>Sudeste</td>\n",
       "      <td>MG</td>\n",
       "      <td>Wenceslau Braz</td>\n",
       "      <td>31</td>\n",
       "      <td>317220.0</td>\n",
       "      <td>31003.0</td>\n",
       "      <td>ITAJUBA</td>\n",
       "      <td>2021-05-10</td>\n",
       "      <td>19</td>\n",
       "      <td>2552.0</td>\n",
       "      <td>146</td>\n",
       "      <td>0</td>\n",
       "      <td>4</td>\n",
       "      <td>0</td>\n",
       "      <td>NaN</td>\n",
       "      <td>NaN</td>\n",
       "      <td>0.0</td>\n",
       "    </tr>\n",
       "    <tr>\n",
       "      <th>1293724</th>\n",
       "      <td>Sudeste</td>\n",
       "      <td>MG</td>\n",
       "      <td>Wenceslau Braz</td>\n",
       "      <td>31</td>\n",
       "      <td>317220.0</td>\n",
       "      <td>31003.0</td>\n",
       "      <td>ITAJUBA</td>\n",
       "      <td>2021-05-11</td>\n",
       "      <td>19</td>\n",
       "      <td>2552.0</td>\n",
       "      <td>150</td>\n",
       "      <td>4</td>\n",
       "      <td>4</td>\n",
       "      <td>0</td>\n",
       "      <td>NaN</td>\n",
       "      <td>NaN</td>\n",
       "      <td>0.0</td>\n",
       "    </tr>\n",
       "    <tr>\n",
       "      <th>1293725</th>\n",
       "      <td>Sudeste</td>\n",
       "      <td>MG</td>\n",
       "      <td>Wenceslau Braz</td>\n",
       "      <td>31</td>\n",
       "      <td>317220.0</td>\n",
       "      <td>31003.0</td>\n",
       "      <td>ITAJUBA</td>\n",
       "      <td>2021-05-12</td>\n",
       "      <td>19</td>\n",
       "      <td>2552.0</td>\n",
       "      <td>155</td>\n",
       "      <td>5</td>\n",
       "      <td>4</td>\n",
       "      <td>0</td>\n",
       "      <td>NaN</td>\n",
       "      <td>NaN</td>\n",
       "      <td>0.0</td>\n",
       "    </tr>\n",
       "  </tbody>\n",
       "</table>\n",
       "</div>"
      ],
      "text/plain": [
       "          regiao estado       municipio  coduf    codmun  codRegiaoSaude  \\\n",
       "1293721  Sudeste     MG  Wenceslau Braz     31  317220.0         31003.0   \n",
       "1293722  Sudeste     MG  Wenceslau Braz     31  317220.0         31003.0   \n",
       "1293723  Sudeste     MG  Wenceslau Braz     31  317220.0         31003.0   \n",
       "1293724  Sudeste     MG  Wenceslau Braz     31  317220.0         31003.0   \n",
       "1293725  Sudeste     MG  Wenceslau Braz     31  317220.0         31003.0   \n",
       "\n",
       "        nomeRegiaoSaude        data  semanaEpi  populacaoTCU2019  \\\n",
       "1293721         ITAJUBA  2021-05-08         18            2552.0   \n",
       "1293722         ITAJUBA  2021-05-09         19            2552.0   \n",
       "1293723         ITAJUBA  2021-05-10         19            2552.0   \n",
       "1293724         ITAJUBA  2021-05-11         19            2552.0   \n",
       "1293725         ITAJUBA  2021-05-12         19            2552.0   \n",
       "\n",
       "         casosAcumulado  casosNovos  obitosAcumulado  obitosNovos  \\\n",
       "1293721             146           4                4            0   \n",
       "1293722             146           0                4            0   \n",
       "1293723             146           0                4            0   \n",
       "1293724             150           4                4            0   \n",
       "1293725             155           5                4            0   \n",
       "\n",
       "         Recuperadosnovos  emAcompanhamentoNovos  interior/metropolitana  \n",
       "1293721               NaN                    NaN                     0.0  \n",
       "1293722               NaN                    NaN                     0.0  \n",
       "1293723               NaN                    NaN                     0.0  \n",
       "1293724               NaN                    NaN                     0.0  \n",
       "1293725               NaN                    NaN                     0.0  "
      ]
     },
     "execution_count": 21,
     "metadata": {},
     "output_type": "execute_result"
    }
   ],
   "source": [
    "# dataset.columns\n",
    "dataset['estado'].unique()\n",
    "dataset_MG = dataset[dataset.estado == 'MG']\n",
    "dataset_MG.tail()"
   ]
  },
  {
   "cell_type": "markdown",
   "metadata": {},
   "source": [
    "#### Exercício 1.2: Selecione também um dataset contendo apenas os dados para a capital de MG."
   ]
  },
  {
   "cell_type": "code",
   "execution_count": 25,
   "metadata": {},
   "outputs": [
    {
     "data": {
      "text/html": [
       "<div>\n",
       "<style scoped>\n",
       "    .dataframe tbody tr th:only-of-type {\n",
       "        vertical-align: middle;\n",
       "    }\n",
       "\n",
       "    .dataframe tbody tr th {\n",
       "        vertical-align: top;\n",
       "    }\n",
       "\n",
       "    .dataframe thead th {\n",
       "        text-align: right;\n",
       "    }\n",
       "</style>\n",
       "<table border=\"1\" class=\"dataframe\">\n",
       "  <thead>\n",
       "    <tr style=\"text-align: right;\">\n",
       "      <th></th>\n",
       "      <th>regiao</th>\n",
       "      <th>estado</th>\n",
       "      <th>municipio</th>\n",
       "      <th>coduf</th>\n",
       "      <th>codmun</th>\n",
       "      <th>codRegiaoSaude</th>\n",
       "      <th>nomeRegiaoSaude</th>\n",
       "      <th>data</th>\n",
       "      <th>semanaEpi</th>\n",
       "      <th>populacaoTCU2019</th>\n",
       "      <th>casosAcumulado</th>\n",
       "      <th>casosNovos</th>\n",
       "      <th>obitosAcumulado</th>\n",
       "      <th>obitosNovos</th>\n",
       "      <th>Recuperadosnovos</th>\n",
       "      <th>emAcompanhamentoNovos</th>\n",
       "      <th>interior/metropolitana</th>\n",
       "    </tr>\n",
       "  </thead>\n",
       "  <tbody>\n",
       "    <tr>\n",
       "      <th>969477</th>\n",
       "      <td>Sudeste</td>\n",
       "      <td>MG</td>\n",
       "      <td>Belo Horizonte</td>\n",
       "      <td>31</td>\n",
       "      <td>310620.0</td>\n",
       "      <td>31016.0</td>\n",
       "      <td>BELO HORIZONTE/ NOVA LIMA/ CAETE</td>\n",
       "      <td>2021-05-08</td>\n",
       "      <td>18</td>\n",
       "      <td>2512070.0</td>\n",
       "      <td>184979</td>\n",
       "      <td>1156</td>\n",
       "      <td>4497</td>\n",
       "      <td>47</td>\n",
       "      <td>NaN</td>\n",
       "      <td>NaN</td>\n",
       "      <td>1.0</td>\n",
       "    </tr>\n",
       "    <tr>\n",
       "      <th>969478</th>\n",
       "      <td>Sudeste</td>\n",
       "      <td>MG</td>\n",
       "      <td>Belo Horizonte</td>\n",
       "      <td>31</td>\n",
       "      <td>310620.0</td>\n",
       "      <td>31016.0</td>\n",
       "      <td>BELO HORIZONTE/ NOVA LIMA/ CAETE</td>\n",
       "      <td>2021-05-09</td>\n",
       "      <td>19</td>\n",
       "      <td>2512070.0</td>\n",
       "      <td>184979</td>\n",
       "      <td>0</td>\n",
       "      <td>4527</td>\n",
       "      <td>30</td>\n",
       "      <td>NaN</td>\n",
       "      <td>NaN</td>\n",
       "      <td>1.0</td>\n",
       "    </tr>\n",
       "    <tr>\n",
       "      <th>969479</th>\n",
       "      <td>Sudeste</td>\n",
       "      <td>MG</td>\n",
       "      <td>Belo Horizonte</td>\n",
       "      <td>31</td>\n",
       "      <td>310620.0</td>\n",
       "      <td>31016.0</td>\n",
       "      <td>BELO HORIZONTE/ NOVA LIMA/ CAETE</td>\n",
       "      <td>2021-05-10</td>\n",
       "      <td>19</td>\n",
       "      <td>2512070.0</td>\n",
       "      <td>184979</td>\n",
       "      <td>0</td>\n",
       "      <td>4541</td>\n",
       "      <td>14</td>\n",
       "      <td>NaN</td>\n",
       "      <td>NaN</td>\n",
       "      <td>1.0</td>\n",
       "    </tr>\n",
       "    <tr>\n",
       "      <th>969480</th>\n",
       "      <td>Sudeste</td>\n",
       "      <td>MG</td>\n",
       "      <td>Belo Horizonte</td>\n",
       "      <td>31</td>\n",
       "      <td>310620.0</td>\n",
       "      <td>31016.0</td>\n",
       "      <td>BELO HORIZONTE/ NOVA LIMA/ CAETE</td>\n",
       "      <td>2021-05-11</td>\n",
       "      <td>19</td>\n",
       "      <td>2512070.0</td>\n",
       "      <td>186779</td>\n",
       "      <td>1800</td>\n",
       "      <td>4544</td>\n",
       "      <td>3</td>\n",
       "      <td>NaN</td>\n",
       "      <td>NaN</td>\n",
       "      <td>1.0</td>\n",
       "    </tr>\n",
       "    <tr>\n",
       "      <th>969481</th>\n",
       "      <td>Sudeste</td>\n",
       "      <td>MG</td>\n",
       "      <td>Belo Horizonte</td>\n",
       "      <td>31</td>\n",
       "      <td>310620.0</td>\n",
       "      <td>31016.0</td>\n",
       "      <td>BELO HORIZONTE/ NOVA LIMA/ CAETE</td>\n",
       "      <td>2021-05-12</td>\n",
       "      <td>19</td>\n",
       "      <td>2512070.0</td>\n",
       "      <td>188099</td>\n",
       "      <td>1320</td>\n",
       "      <td>4579</td>\n",
       "      <td>35</td>\n",
       "      <td>NaN</td>\n",
       "      <td>NaN</td>\n",
       "      <td>1.0</td>\n",
       "    </tr>\n",
       "  </tbody>\n",
       "</table>\n",
       "</div>"
      ],
      "text/plain": [
       "         regiao estado       municipio  coduf    codmun  codRegiaoSaude  \\\n",
       "969477  Sudeste     MG  Belo Horizonte     31  310620.0         31016.0   \n",
       "969478  Sudeste     MG  Belo Horizonte     31  310620.0         31016.0   \n",
       "969479  Sudeste     MG  Belo Horizonte     31  310620.0         31016.0   \n",
       "969480  Sudeste     MG  Belo Horizonte     31  310620.0         31016.0   \n",
       "969481  Sudeste     MG  Belo Horizonte     31  310620.0         31016.0   \n",
       "\n",
       "                          nomeRegiaoSaude        data  semanaEpi  \\\n",
       "969477  BELO HORIZONTE/ NOVA LIMA/ CAETE   2021-05-08         18   \n",
       "969478  BELO HORIZONTE/ NOVA LIMA/ CAETE   2021-05-09         19   \n",
       "969479  BELO HORIZONTE/ NOVA LIMA/ CAETE   2021-05-10         19   \n",
       "969480  BELO HORIZONTE/ NOVA LIMA/ CAETE   2021-05-11         19   \n",
       "969481  BELO HORIZONTE/ NOVA LIMA/ CAETE   2021-05-12         19   \n",
       "\n",
       "        populacaoTCU2019  casosAcumulado  casosNovos  obitosAcumulado  \\\n",
       "969477         2512070.0          184979        1156             4497   \n",
       "969478         2512070.0          184979           0             4527   \n",
       "969479         2512070.0          184979           0             4541   \n",
       "969480         2512070.0          186779        1800             4544   \n",
       "969481         2512070.0          188099        1320             4579   \n",
       "\n",
       "        obitosNovos  Recuperadosnovos  emAcompanhamentoNovos  \\\n",
       "969477           47               NaN                    NaN   \n",
       "969478           30               NaN                    NaN   \n",
       "969479           14               NaN                    NaN   \n",
       "969480            3               NaN                    NaN   \n",
       "969481           35               NaN                    NaN   \n",
       "\n",
       "        interior/metropolitana  \n",
       "969477                     1.0  \n",
       "969478                     1.0  \n",
       "969479                     1.0  \n",
       "969480                     1.0  \n",
       "969481                     1.0  "
      ]
     },
     "execution_count": 25,
     "metadata": {},
     "output_type": "execute_result"
    }
   ],
   "source": [
    "# dataset_MG.columns\n",
    "dataset_MG['municipio'].unique()\n",
    "dataset_MG_BH = dataset_MG[dataset_MG.municipio == 'Belo Horizonte'] \n",
    "dataset_MG_BH.tail()"
   ]
  },
  {
   "cell_type": "markdown",
   "metadata": {},
   "source": [
    "### 2. Explorando o dataset."
   ]
  },
  {
   "cell_type": "markdown",
   "metadata": {},
   "source": [
    "#### Exercício 2.1. Quantas filas e quantas colunas o dataset tem?"
   ]
  },
  {
   "cell_type": "code",
   "execution_count": 27,
   "metadata": {},
   "outputs": [
    {
     "name": "stdout",
     "output_type": "stream",
     "text": [
      "Nº de linhas: 2315898\n",
      "Nº de colunas: 17\n"
     ]
    }
   ],
   "source": [
    "print(f'Nº de linhas: {dataset.shape[0]}\\nNº de colunas: {dataset.shape[1]}')"
   ]
  },
  {
   "cell_type": "markdown",
   "metadata": {},
   "source": [
    "#### Exercício 2.2 Que informação o dataset tem? Imprima o nome das colunas."
   ]
  },
  {
   "cell_type": "code",
   "execution_count": 41,
   "metadata": {},
   "outputs": [
    {
     "data": {
      "text/plain": [
       "Index(['regiao', 'estado', 'municipio', 'coduf', 'codmun', 'codRegiaoSaude',\n",
       "       'nomeRegiaoSaude', 'data', 'semanaEpi', 'populacaoTCU2019',\n",
       "       'casosAcumulado', 'casosNovos', 'obitosAcumulado', 'obitosNovos',\n",
       "       'Recuperadosnovos', 'emAcompanhamentoNovos', 'interior/metropolitana'],\n",
       "      dtype='object')"
      ]
     },
     "execution_count": 41,
     "metadata": {},
     "output_type": "execute_result"
    }
   ],
   "source": [
    "dataset.columns"
   ]
  },
  {
   "cell_type": "markdown",
   "metadata": {},
   "source": [
    "#### Exercício 2.3: Como o dataset está indexado?"
   ]
  },
  {
   "cell_type": "code",
   "execution_count": null,
   "metadata": {},
   "outputs": [],
   "source": []
  },
  {
   "cell_type": "markdown",
   "metadata": {},
   "source": [
    "#### Exercício 2.4: Qual é o tipo da quarta coluna?"
   ]
  },
  {
   "cell_type": "code",
   "execution_count": 62,
   "metadata": {},
   "outputs": [
    {
     "data": {
      "text/plain": [
       "dtype('int64')"
      ]
     },
     "execution_count": 62,
     "metadata": {},
     "output_type": "execute_result"
    }
   ],
   "source": [
    "dataset.dtypes\n",
    "dataset.dtypes[3]"
   ]
  },
  {
   "cell_type": "markdown",
   "metadata": {},
   "source": [
    "#### Exercício 2.5: Qual é o município com o maior número de instâncias no dataset?"
   ]
  },
  {
   "cell_type": "code",
   "execution_count": null,
   "metadata": {},
   "outputs": [],
   "source": []
  },
  {
   "cell_type": "markdown",
   "metadata": {},
   "source": [
    "#### Exercício 2.6: Como os nomes das regiões de saúde estão distribuídos no dataset? "
   ]
  },
  {
   "cell_type": "code",
   "execution_count": null,
   "metadata": {},
   "outputs": [],
   "source": []
  },
  {
   "cell_type": "markdown",
   "metadata": {},
   "source": [
    "#### Exercício 2.7: Qual é o número de casos acumulados na capital de MG, no dia 2020-03-31? "
   ]
  },
  {
   "cell_type": "code",
   "execution_count": 82,
   "metadata": {},
   "outputs": [
    {
     "data": {
      "text/plain": [
       "array([163])"
      ]
     },
     "execution_count": 82,
     "metadata": {},
     "output_type": "execute_result"
    }
   ],
   "source": [
    "dataset_MG_BH.columns\n",
    "dataset_MG_BH[(dataset_MG_BH.data == '2020-03-31')]['casosAcumulado'].values"
   ]
  },
  {
   "cell_type": "markdown",
   "metadata": {},
   "source": [
    "#### Exercício 2.8: Qual é o número total de casos acumulados para todas as cidades do estado de MG, no dia 2020-03-31? "
   ]
  },
  {
   "cell_type": "code",
   "execution_count": 90,
   "metadata": {},
   "outputs": [
    {
     "data": {
      "text/plain": [
       "1033562"
      ]
     },
     "execution_count": 90,
     "metadata": {},
     "output_type": "execute_result"
    }
   ],
   "source": [
    "dataset_MG[(dataset_MG.data == '2021-03-21') & (dataset_MG.index != 7923)]['casosAcumulado'].sum()"
   ]
  },
  {
   "cell_type": "code",
   "execution_count": 89,
   "metadata": {},
   "outputs": [
    {
     "data": {
      "text/html": [
       "<div>\n",
       "<style scoped>\n",
       "    .dataframe tbody tr th:only-of-type {\n",
       "        vertical-align: middle;\n",
       "    }\n",
       "\n",
       "    .dataframe tbody tr th {\n",
       "        vertical-align: top;\n",
       "    }\n",
       "\n",
       "    .dataframe thead th {\n",
       "        text-align: right;\n",
       "    }\n",
       "</style>\n",
       "<table border=\"1\" class=\"dataframe\">\n",
       "  <thead>\n",
       "    <tr style=\"text-align: right;\">\n",
       "      <th></th>\n",
       "      <th>regiao</th>\n",
       "      <th>estado</th>\n",
       "      <th>municipio</th>\n",
       "      <th>coduf</th>\n",
       "      <th>codmun</th>\n",
       "      <th>codRegiaoSaude</th>\n",
       "      <th>nomeRegiaoSaude</th>\n",
       "      <th>data</th>\n",
       "      <th>semanaEpi</th>\n",
       "      <th>populacaoTCU2019</th>\n",
       "      <th>casosAcumulado</th>\n",
       "      <th>casosNovos</th>\n",
       "      <th>obitosAcumulado</th>\n",
       "      <th>obitosNovos</th>\n",
       "      <th>Recuperadosnovos</th>\n",
       "      <th>emAcompanhamentoNovos</th>\n",
       "      <th>interior/metropolitana</th>\n",
       "    </tr>\n",
       "  </thead>\n",
       "  <tbody>\n",
       "    <tr>\n",
       "      <th>7923</th>\n",
       "      <td>Sudeste</td>\n",
       "      <td>MG</td>\n",
       "      <td>NaN</td>\n",
       "      <td>31</td>\n",
       "      <td>NaN</td>\n",
       "      <td>NaN</td>\n",
       "      <td>NaN</td>\n",
       "      <td>2021-03-21</td>\n",
       "      <td>12</td>\n",
       "      <td>21168791.0</td>\n",
       "      <td>1033562</td>\n",
       "      <td>9593</td>\n",
       "      <td>22007</td>\n",
       "      <td>243</td>\n",
       "      <td>NaN</td>\n",
       "      <td>NaN</td>\n",
       "      <td>NaN</td>\n",
       "    </tr>\n",
       "  </tbody>\n",
       "</table>\n",
       "</div>"
      ],
      "text/plain": [
       "       regiao estado municipio  coduf  codmun  codRegiaoSaude nomeRegiaoSaude  \\\n",
       "7923  Sudeste     MG       NaN     31     NaN             NaN             NaN   \n",
       "\n",
       "            data  semanaEpi  populacaoTCU2019  casosAcumulado  casosNovos  \\\n",
       "7923  2021-03-21         12        21168791.0         1033562        9593   \n",
       "\n",
       "      obitosAcumulado  obitosNovos  Recuperadosnovos  emAcompanhamentoNovos  \\\n",
       "7923            22007          243               NaN                    NaN   \n",
       "\n",
       "      interior/metropolitana  \n",
       "7923                     NaN  "
      ]
     },
     "execution_count": 89,
     "metadata": {},
     "output_type": "execute_result"
    }
   ],
   "source": [
    "dataset_MG[dataset_MG.index == 7923]"
   ]
  },
  {
   "cell_type": "markdown",
   "metadata": {},
   "source": [
    "#### Exercício 2.9: Qual é o valor médio de \"semanaEpi\"  durante todo o período? "
   ]
  },
  {
   "cell_type": "code",
   "execution_count": null,
   "metadata": {},
   "outputs": [],
   "source": []
  },
  {
   "cell_type": "code",
   "execution_count": null,
   "metadata": {},
   "outputs": [],
   "source": []
  },
  {
   "cell_type": "markdown",
   "metadata": {},
   "source": [
    "### 3. Indexando e organizando os dados."
   ]
  },
  {
   "cell_type": "markdown",
   "metadata": {},
   "source": [
    "#### Exercício 3.1:  Selecionar  valores não duplicados para as coluna 'municipio','coduf', 'codmun', 'codRegiaoSaude' e atribuí-las a um objeto novo chamado 'covid19SPMunicipios'."
   ]
  },
  {
   "cell_type": "code",
   "execution_count": null,
   "metadata": {},
   "outputs": [],
   "source": []
  },
  {
   "cell_type": "markdown",
   "metadata": {},
   "source": [
    "#### Exercício 3.2:  Selecionar as primeiras 20 filas de 'covid19SPMunicipios'"
   ]
  },
  {
   "cell_type": "code",
   "execution_count": null,
   "metadata": {},
   "outputs": [],
   "source": []
  },
  {
   "cell_type": "markdown",
   "metadata": {},
   "source": [
    "#### Exercício 3.3:  Selecionar uma amostra aleatória de 100 filas de 'covid19SPMunicipios'"
   ]
  },
  {
   "cell_type": "code",
   "execution_count": null,
   "metadata": {},
   "outputs": [],
   "source": []
  },
  {
   "cell_type": "markdown",
   "metadata": {},
   "source": [
    "#### Exercício 3.4: Escolher todas as colunas, exceto 'coduf'. Utilize a propriedade columns para filtrar na dimensão das colunas."
   ]
  },
  {
   "cell_type": "code",
   "execution_count": null,
   "metadata": {},
   "outputs": [],
   "source": []
  },
  {
   "cell_type": "markdown",
   "metadata": {},
   "source": [
    "#### Exercício 3.5: Organizar o dataset dos municípios segundo a população, de forma decrescente."
   ]
  },
  {
   "cell_type": "code",
   "execution_count": null,
   "metadata": {
    "scrolled": true
   },
   "outputs": [],
   "source": []
  },
  {
   "cell_type": "markdown",
   "metadata": {},
   "source": [
    "#### Exercício 3.6: Qual é a população média da população dos municípios, despois de excluirmos aqueles cujas populações são menores que 10000000 e maiores que 500000 habitantes?"
   ]
  },
  {
   "cell_type": "code",
   "execution_count": null,
   "metadata": {},
   "outputs": [],
   "source": []
  }
 ],
 "metadata": {
  "kernelspec": {
   "display_name": "Python 3",
   "language": "python",
   "name": "python3"
  },
  "language_info": {
   "codemirror_mode": {
    "name": "ipython",
    "version": 3
   },
   "file_extension": ".py",
   "mimetype": "text/x-python",
   "name": "python",
   "nbconvert_exporter": "python",
   "pygments_lexer": "ipython3",
   "version": "3.9.4"
  }
 },
 "nbformat": 4,
 "nbformat_minor": 4
}
