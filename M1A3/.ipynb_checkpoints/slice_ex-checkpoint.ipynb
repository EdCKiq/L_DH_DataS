{
 "cells": [
  {
   "cell_type": "markdown",
   "id": "412784e3-0536-4151-b803-c00917757339",
   "metadata": {},
   "source": [
    "## Exercicio de Slice"
   ]
  },
  {
   "cell_type": "markdown",
   "id": "6addf76f-d58d-4350-8d9c-4f40f542d5fe",
   "metadata": {},
   "source": [
    "A saida do item, tem que ser igual o exemplo abaixo:\n",
    "\n",
    "````\n",
    "[[[ 7  9]\n",
    "  [17 19]]\n",
    "\n",
    " [[57 59]\n",
    "  [67 69]]]\n",
    "````\n",
    "\n",
    "Com o esse input:\n",
    "\n",
    "````\n",
    "new_arr = np.arange(75).reshape(3,5,5)\n",
    "new_arr\n",
    "````"
   ]
  },
  {
   "cell_type": "code",
   "execution_count": 10,
   "id": "a0d07cc0-a9bc-4a8a-8deb-b0174d83256a",
   "metadata": {},
   "outputs": [],
   "source": [
    "import numpy as np"
   ]
  },
  {
   "cell_type": "code",
   "execution_count": 3,
   "id": "fbb215f7-2eb5-4ac4-8789-93f3fbde4072",
   "metadata": {},
   "outputs": [
    {
     "data": {
      "text/plain": [
       "array([[[ 0,  1,  2,  3,  4],\n",
       "        [ 5,  6,  7,  8,  9],\n",
       "        [10, 11, 12, 13, 14],\n",
       "        [15, 16, 17, 18, 19],\n",
       "        [20, 21, 22, 23, 24]],\n",
       "\n",
       "       [[25, 26, 27, 28, 29],\n",
       "        [30, 31, 32, 33, 34],\n",
       "        [35, 36, 37, 38, 39],\n",
       "        [40, 41, 42, 43, 44],\n",
       "        [45, 46, 47, 48, 49]],\n",
       "\n",
       "       [[50, 51, 52, 53, 54],\n",
       "        [55, 56, 57, 58, 59],\n",
       "        [60, 61, 62, 63, 64],\n",
       "        [65, 66, 67, 68, 69],\n",
       "        [70, 71, 72, 73, 74]]])"
      ]
     },
     "execution_count": 3,
     "metadata": {},
     "output_type": "execute_result"
    }
   ],
   "source": [
    "new_arr = np.arange(75).reshape(3,5,5)\n",
    "new_arr"
   ]
  },
  {
   "cell_type": "code",
   "execution_count": 26,
   "id": "87fcc34d-a697-4bc3-bd3f-8f7d522d6426",
   "metadata": {},
   "outputs": [
    {
     "data": {
      "text/plain": [
       "array([[[ 7,  9],\n",
       "        [17, 19]],\n",
       "\n",
       "       [[57, 59],\n",
       "        [67, 69]]])"
      ]
     },
     "execution_count": 26,
     "metadata": {},
     "output_type": "execute_result"
    }
   ],
   "source": [
    "columns = np.array([[[2, 4],\n",
    "                    [2, 4]],\n",
    "                    \n",
    "                    [[2,4],\n",
    "                    [2,4]]],dtype=np.intp)\n",
    "\n",
    "rows = np.array([[[1, 1],\n",
    "                 [3, 3]],\n",
    "                 \n",
    "                 [[1,1],\n",
    "                 [3,3]]],dtype=np.intp)\n",
    "\n",
    "\n",
    "dimension = np.array([[[0, 0],\n",
    "                    [0, 0]],  \n",
    "                    \n",
    "                    [[2,2],\n",
    "                    [2,2]]],dtype=np.intp)\n",
    "new_arr[dimension,rows,columns]"
   ]
  }
 ],
 "metadata": {
  "kernelspec": {
   "display_name": "Python 3",
   "language": "python",
   "name": "python3"
  },
  "language_info": {
   "codemirror_mode": {
    "name": "ipython",
    "version": 3
   },
   "file_extension": ".py",
   "mimetype": "text/x-python",
   "name": "python",
   "nbconvert_exporter": "python",
   "pygments_lexer": "ipython3",
   "version": "3.9.5"
  }
 },
 "nbformat": 4,
 "nbformat_minor": 5
}
