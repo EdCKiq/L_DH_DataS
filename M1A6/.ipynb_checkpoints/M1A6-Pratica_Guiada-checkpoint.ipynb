{
 "cells": [
  {
   "cell_type": "markdown",
   "metadata": {
    "colab_type": "text",
    "id": "3DlJUmyydatp"
   },
   "source": [
    "# PRÁTICA GUIADA 1"
   ]
  },
  {
   "cell_type": "code",
   "execution_count": 1,
   "metadata": {
    "colab": {
     "autoexec": {
      "startup": false,
      "wait_interval": 0
     }
    },
    "colab_type": "code",
    "id": "MeQ_PYnQdats"
   },
   "outputs": [],
   "source": [
    "import numpy as np\n",
    "import pandas as pd"
   ]
  },
  {
   "cell_type": "markdown",
   "metadata": {
    "colab_type": "text",
    "id": "cw5qcJNcdatx"
   },
   "source": [
    "## Analisando o ranking CWUR\n",
    "\n",
    "O Center for World University Rankings ([cwur.org](https://cwur.org/)) é uma agência que provê consultoria em políticas e estratégias educacionais para governos e universidades, para melhorar resultados educacionais e de pesquisa."
   ]
  },
  {
   "cell_type": "code",
   "execution_count": 2,
   "metadata": {},
   "outputs": [],
   "source": [
    "cwur = pd.read_csv(\"cwurData.csv\", sep = \",\")"
   ]
  },
  {
   "cell_type": "markdown",
   "metadata": {},
   "source": [
    "## Verificando o dataset"
   ]
  },
  {
   "cell_type": "code",
   "execution_count": null,
   "metadata": {},
   "outputs": [],
   "source": [
    "cwur\n",
    "# demonstrar cell scrolling"
   ]
  },
  {
   "cell_type": "code",
   "execution_count": null,
   "metadata": {
    "colab": {
     "autoexec": {
      "startup": false,
      "wait_interval": 0
     }
    },
    "colab_type": "code",
    "id": "BiTrCYw9dat5",
    "outputId": "f4b78ca1-7a0c-4b47-fd75-ccaf0378345f"
   },
   "outputs": [],
   "source": [
    "cwur.shape"
   ]
  },
  {
   "cell_type": "code",
   "execution_count": null,
   "metadata": {},
   "outputs": [],
   "source": [
    "len(cwur)"
   ]
  },
  {
   "cell_type": "code",
   "execution_count": null,
   "metadata": {
    "colab": {
     "autoexec": {
      "startup": false,
      "wait_interval": 0
     }
    },
    "colab_type": "code",
    "id": "BiTrCYw9dat5",
    "outputId": "f4b78ca1-7a0c-4b47-fd75-ccaf0378345f"
   },
   "outputs": [],
   "source": [
    "cwur.head()"
   ]
  },
  {
   "cell_type": "code",
   "execution_count": null,
   "metadata": {},
   "outputs": [],
   "source": [
    "cwur.tail()"
   ]
  },
  {
   "cell_type": "code",
   "execution_count": null,
   "metadata": {
    "colab": {
     "autoexec": {
      "startup": false,
      "wait_interval": 0
     }
    },
    "colab_type": "code",
    "id": "_z-wMhmOdauA",
    "outputId": "cfd5fdc3-6421-41de-cf8c-5b90239c385e"
   },
   "outputs": [],
   "source": [
    "cwur.columns"
   ]
  },
  {
   "cell_type": "code",
   "execution_count": null,
   "metadata": {},
   "outputs": [],
   "source": [
    "cwur.dtypes"
   ]
  },
  {
   "cell_type": "code",
   "execution_count": null,
   "metadata": {},
   "outputs": [],
   "source": [
    "cwur.info()"
   ]
  },
  {
   "cell_type": "markdown",
   "metadata": {},
   "source": [
    "## Agregações simples em Pandas."
   ]
  },
  {
   "cell_type": "markdown",
   "metadata": {},
   "source": [
    "* Como em um array de uma dimensão, a agregação para uma ``Series`` retorna um valor único."
   ]
  },
  {
   "cell_type": "markdown",
   "metadata": {},
   "source": [
    "### Podemos calcular a soma e média de citações por cada universidade."
   ]
  },
  {
   "cell_type": "code",
   "execution_count": null,
   "metadata": {
    "colab": {
     "autoexec": {
      "startup": false,
      "wait_interval": 0
     }
    },
    "colab_type": "code",
    "id": "OjZ9ZFAldauS",
    "outputId": "400956c9-0d85-4209-873f-91fd7d41983f"
   },
   "outputs": [],
   "source": [
    "cwurSumCitations = cwur[\"citations\"].sum()\n",
    "cwurSumCitations"
   ]
  },
  {
   "cell_type": "code",
   "execution_count": null,
   "metadata": {
    "colab": {
     "autoexec": {
      "startup": false,
      "wait_interval": 0
     }
    },
    "colab_type": "code",
    "id": "IfAy6AZudauW",
    "outputId": "b8827b16-adc1-4086-99cb-7c3745a36adf"
   },
   "outputs": [],
   "source": [
    "cwurMeanCitations = cwur[\"citations\"].mean()\n",
    "cwurMeanCitations"
   ]
  },
  {
   "cell_type": "markdown",
   "metadata": {
    "colab_type": "text",
    "id": "6CfuKtpqdaub"
   },
   "source": [
    "* Para um ``DataFrame``, os `aggregate`, por padrão, retornam os resultados dentro de cada coluna:"
   ]
  },
  {
   "cell_type": "markdown",
   "metadata": {
    "colab_type": "text",
    "id": "jqVVE_Pzdauc"
   },
   "source": [
    "* Especificando o argumento ``axis``, é possível adicionar os resultados a cada linha. Como no caso de NumPy, em `axis`, é definida a dimensão na qual os dados são recolhidos. Se quisermos resultados por linha, então, `axis = 'columns'` e vice-versa."
   ]
  },
  {
   "cell_type": "code",
   "execution_count": null,
   "metadata": {},
   "outputs": [],
   "source": [
    "citationsandpublications = cwur.loc[:,[\"citations\",'publications']].sum()\n",
    "citationsandpublications"
   ]
  },
  {
   "cell_type": "markdown",
   "metadata": {},
   "source": [
    "* É possível definir o eixo que a função `sum()`, deve ser aplicado [sum](https://pandas.pydata.org/docs/reference/api/pandas.DataFrame.sum.html?highlight=sum#pandas.DataFrame.sum)."
   ]
  },
  {
   "cell_type": "code",
   "execution_count": null,
   "metadata": {},
   "outputs": [],
   "source": [
    "citationsandpublications = cwur.loc[:,[\"citations\",'publications']].sum(axis=1)\n",
    "citationsandpublications"
   ]
  },
  {
   "cell_type": "markdown",
   "metadata": {
    "colab_type": "text",
    "id": "T7UzfavXdau4"
   },
   "source": [
    "* Uma resumo de algumas funções de agregação em Pandas:\n",
    "\n",
    "| Aggregation | Description |\n",
    "|--------------------------|---------------------------------|\n",
    "| ``count()`` | Total number of items |\n",
    "| ``mean()``, ``median()`` | Mean and median |\n",
    "| ``min()``, ``max()`` | Minimum and maximum |\n",
    "| ``std()``, ``var()`` | Standard deviation and variance |\n",
    "| ``mad()`` | Mean absolute deviation |\n",
    "| ``prod()`` | Product of all items |\n",
    "| ``sum()`` | Sum of all items |\n",
    "| ``value_counts()`` | Total number of items by each different value |\n",
    "\n",
    "Todos são métodos dos objetos ``DataFrame`` e ``Series``."
   ]
  },
  {
   "cell_type": "code",
   "execution_count": null,
   "metadata": {},
   "outputs": [],
   "source": [
    "cwur.describe()"
   ]
  },
  {
   "cell_type": "code",
   "execution_count": null,
   "metadata": {},
   "outputs": [],
   "source": [
    "cwur.describe().T"
   ]
  },
  {
   "cell_type": "code",
   "execution_count": null,
   "metadata": {},
   "outputs": [],
   "source": [
    "round(cwur.describe().T,2)"
   ]
  },
  {
   "cell_type": "markdown",
   "metadata": {},
   "source": [
    "### Exercícios"
   ]
  },
  {
   "cell_type": "markdown",
   "metadata": {},
   "source": [
    "#### Apresente um quadro resumido das métricas (publications, influence, citations, broad_impact) para as universidades do Brasil e da Argentina"
   ]
  },
  {
   "cell_type": "code",
   "execution_count": 70,
   "metadata": {},
   "outputs": [],
   "source": [
    "metr_bras = cwur[['publications','influence','citations','broad_impact']]\\\n",
    "                [(cwur.country == 'Brazil')].describe()\n",
    "\n",
    "metr_arg =  cwur[['publications','influence','citations','broad_impact']]\\\n",
    "                [(cwur.country == 'Argentina')].describe()\n",
    "\n",
    "# cwur['country'].unique()\n",
    "# cwur.columns"
   ]
  },
  {
   "cell_type": "code",
   "execution_count": 76,
   "metadata": {},
   "outputs": [
    {
     "data": {
      "text/html": [
       "<div>\n",
       "<style scoped>\n",
       "    .dataframe tbody tr th:only-of-type {\n",
       "        vertical-align: middle;\n",
       "    }\n",
       "\n",
       "    .dataframe tbody tr th {\n",
       "        vertical-align: top;\n",
       "    }\n",
       "\n",
       "    .dataframe thead th {\n",
       "        text-align: right;\n",
       "    }\n",
       "</style>\n",
       "<table border=\"1\" class=\"dataframe\">\n",
       "  <thead>\n",
       "    <tr style=\"text-align: right;\">\n",
       "      <th></th>\n",
       "      <th>publications</th>\n",
       "      <th>influence</th>\n",
       "      <th>citations</th>\n",
       "      <th>broad_impact</th>\n",
       "    </tr>\n",
       "  </thead>\n",
       "  <tbody>\n",
       "    <tr>\n",
       "      <th>count</th>\n",
       "      <td>36.000000</td>\n",
       "      <td>36.000000</td>\n",
       "      <td>36.000000</td>\n",
       "      <td>36.000000</td>\n",
       "    </tr>\n",
       "    <tr>\n",
       "      <th>mean</th>\n",
       "      <td>622.194444</td>\n",
       "      <td>726.888889</td>\n",
       "      <td>608.000000</td>\n",
       "      <td>736.500000</td>\n",
       "    </tr>\n",
       "    <tr>\n",
       "      <th>std</th>\n",
       "      <td>260.657062</td>\n",
       "      <td>223.931339</td>\n",
       "      <td>196.221304</td>\n",
       "      <td>248.750765</td>\n",
       "    </tr>\n",
       "    <tr>\n",
       "      <th>min</th>\n",
       "      <td>59.000000</td>\n",
       "      <td>182.000000</td>\n",
       "      <td>114.000000</td>\n",
       "      <td>162.000000</td>\n",
       "    </tr>\n",
       "    <tr>\n",
       "      <th>25%</th>\n",
       "      <td>415.250000</td>\n",
       "      <td>604.250000</td>\n",
       "      <td>493.000000</td>\n",
       "      <td>526.750000</td>\n",
       "    </tr>\n",
       "    <tr>\n",
       "      <th>50%</th>\n",
       "      <td>709.500000</td>\n",
       "      <td>803.000000</td>\n",
       "      <td>627.000000</td>\n",
       "      <td>887.500000</td>\n",
       "    </tr>\n",
       "    <tr>\n",
       "      <th>75%</th>\n",
       "      <td>803.250000</td>\n",
       "      <td>905.500000</td>\n",
       "      <td>800.000000</td>\n",
       "      <td>937.000000</td>\n",
       "    </tr>\n",
       "    <tr>\n",
       "      <th>max</th>\n",
       "      <td>985.000000</td>\n",
       "      <td>974.000000</td>\n",
       "      <td>812.000000</td>\n",
       "      <td>975.000000</td>\n",
       "    </tr>\n",
       "  </tbody>\n",
       "</table>\n",
       "</div>"
      ],
      "text/plain": [
       "       publications   influence   citations  broad_impact\n",
       "count     36.000000   36.000000   36.000000     36.000000\n",
       "mean     622.194444  726.888889  608.000000    736.500000\n",
       "std      260.657062  223.931339  196.221304    248.750765\n",
       "min       59.000000  182.000000  114.000000    162.000000\n",
       "25%      415.250000  604.250000  493.000000    526.750000\n",
       "50%      709.500000  803.000000  627.000000    887.500000\n",
       "75%      803.250000  905.500000  800.000000    937.000000\n",
       "max      985.000000  974.000000  812.000000    975.000000"
      ]
     },
     "execution_count": 76,
     "metadata": {},
     "output_type": "execute_result"
    }
   ],
   "source": [
    "metr_bras"
   ]
  },
  {
   "cell_type": "code",
   "execution_count": 77,
   "metadata": {},
   "outputs": [
    {
     "data": {
      "text/html": [
       "<div>\n",
       "<style scoped>\n",
       "    .dataframe tbody tr th:only-of-type {\n",
       "        vertical-align: middle;\n",
       "    }\n",
       "\n",
       "    .dataframe tbody tr th {\n",
       "        vertical-align: top;\n",
       "    }\n",
       "\n",
       "    .dataframe thead th {\n",
       "        text-align: right;\n",
       "    }\n",
       "</style>\n",
       "<table border=\"1\" class=\"dataframe\">\n",
       "  <thead>\n",
       "    <tr style=\"text-align: right;\">\n",
       "      <th></th>\n",
       "      <th>publications</th>\n",
       "      <th>influence</th>\n",
       "      <th>citations</th>\n",
       "      <th>broad_impact</th>\n",
       "    </tr>\n",
       "  </thead>\n",
       "  <tbody>\n",
       "    <tr>\n",
       "      <th>count</th>\n",
       "      <td>7.000000</td>\n",
       "      <td>7.000000</td>\n",
       "      <td>7.000000</td>\n",
       "      <td>7.000000</td>\n",
       "    </tr>\n",
       "    <tr>\n",
       "      <th>mean</th>\n",
       "      <td>577.428571</td>\n",
       "      <td>600.714286</td>\n",
       "      <td>522.142857</td>\n",
       "      <td>683.285714</td>\n",
       "    </tr>\n",
       "    <tr>\n",
       "      <th>std</th>\n",
       "      <td>253.409982</td>\n",
       "      <td>209.790145</td>\n",
       "      <td>172.839452</td>\n",
       "      <td>249.779712</td>\n",
       "    </tr>\n",
       "    <tr>\n",
       "      <th>min</th>\n",
       "      <td>268.000000</td>\n",
       "      <td>348.000000</td>\n",
       "      <td>321.000000</td>\n",
       "      <td>344.000000</td>\n",
       "    </tr>\n",
       "    <tr>\n",
       "      <th>25%</th>\n",
       "      <td>411.000000</td>\n",
       "      <td>436.500000</td>\n",
       "      <td>384.500000</td>\n",
       "      <td>517.500000</td>\n",
       "    </tr>\n",
       "    <tr>\n",
       "      <th>50%</th>\n",
       "      <td>546.000000</td>\n",
       "      <td>559.000000</td>\n",
       "      <td>511.000000</td>\n",
       "      <td>703.000000</td>\n",
       "    </tr>\n",
       "    <tr>\n",
       "      <th>75%</th>\n",
       "      <td>715.000000</td>\n",
       "      <td>803.500000</td>\n",
       "      <td>627.000000</td>\n",
       "      <td>872.500000</td>\n",
       "    </tr>\n",
       "    <tr>\n",
       "      <th>max</th>\n",
       "      <td>976.000000</td>\n",
       "      <td>818.000000</td>\n",
       "      <td>800.000000</td>\n",
       "      <td>956.000000</td>\n",
       "    </tr>\n",
       "  </tbody>\n",
       "</table>\n",
       "</div>"
      ],
      "text/plain": [
       "       publications   influence   citations  broad_impact\n",
       "count      7.000000    7.000000    7.000000      7.000000\n",
       "mean     577.428571  600.714286  522.142857    683.285714\n",
       "std      253.409982  209.790145  172.839452    249.779712\n",
       "min      268.000000  348.000000  321.000000    344.000000\n",
       "25%      411.000000  436.500000  384.500000    517.500000\n",
       "50%      546.000000  559.000000  511.000000    703.000000\n",
       "75%      715.000000  803.500000  627.000000    872.500000\n",
       "max      976.000000  818.000000  800.000000    956.000000"
      ]
     },
     "execution_count": 77,
     "metadata": {},
     "output_type": "execute_result"
    }
   ],
   "source": [
    "metr_arg"
   ]
  },
  {
   "cell_type": "markdown",
   "metadata": {},
   "source": [
    "#### Apresente o mesmo quadro, porém para todos os outros países que não são Brasil e Argentina"
   ]
  },
  {
   "cell_type": "code",
   "execution_count": 74,
   "metadata": {},
   "outputs": [
    {
     "data": {
      "text/html": [
       "<div>\n",
       "<style scoped>\n",
       "    .dataframe tbody tr th:only-of-type {\n",
       "        vertical-align: middle;\n",
       "    }\n",
       "\n",
       "    .dataframe tbody tr th {\n",
       "        vertical-align: top;\n",
       "    }\n",
       "\n",
       "    .dataframe thead th {\n",
       "        text-align: right;\n",
       "    }\n",
       "</style>\n",
       "<table border=\"1\" class=\"dataframe\">\n",
       "  <thead>\n",
       "    <tr style=\"text-align: right;\">\n",
       "      <th></th>\n",
       "      <th>publications</th>\n",
       "      <th>influence</th>\n",
       "      <th>citations</th>\n",
       "      <th>broad_impact</th>\n",
       "    </tr>\n",
       "  </thead>\n",
       "  <tbody>\n",
       "    <tr>\n",
       "      <th>count</th>\n",
       "      <td>2200.000000</td>\n",
       "      <td>2200.000000</td>\n",
       "      <td>2200.000000</td>\n",
       "      <td>2000.000000</td>\n",
       "    </tr>\n",
       "    <tr>\n",
       "      <th>mean</th>\n",
       "      <td>459.908636</td>\n",
       "      <td>459.797727</td>\n",
       "      <td>413.417273</td>\n",
       "      <td>496.699500</td>\n",
       "    </tr>\n",
       "    <tr>\n",
       "      <th>std</th>\n",
       "      <td>303.760352</td>\n",
       "      <td>303.331822</td>\n",
       "      <td>264.366549</td>\n",
       "      <td>286.919755</td>\n",
       "    </tr>\n",
       "    <tr>\n",
       "      <th>min</th>\n",
       "      <td>1.000000</td>\n",
       "      <td>1.000000</td>\n",
       "      <td>1.000000</td>\n",
       "      <td>1.000000</td>\n",
       "    </tr>\n",
       "    <tr>\n",
       "      <th>25%</th>\n",
       "      <td>175.750000</td>\n",
       "      <td>175.750000</td>\n",
       "      <td>161.000000</td>\n",
       "      <td>250.500000</td>\n",
       "    </tr>\n",
       "    <tr>\n",
       "      <th>50%</th>\n",
       "      <td>450.500000</td>\n",
       "      <td>450.500000</td>\n",
       "      <td>406.000000</td>\n",
       "      <td>496.000000</td>\n",
       "    </tr>\n",
       "    <tr>\n",
       "      <th>75%</th>\n",
       "      <td>725.000000</td>\n",
       "      <td>725.250000</td>\n",
       "      <td>645.000000</td>\n",
       "      <td>741.000000</td>\n",
       "    </tr>\n",
       "    <tr>\n",
       "      <th>max</th>\n",
       "      <td>1000.000000</td>\n",
       "      <td>991.000000</td>\n",
       "      <td>812.000000</td>\n",
       "      <td>1000.000000</td>\n",
       "    </tr>\n",
       "  </tbody>\n",
       "</table>\n",
       "</div>"
      ],
      "text/plain": [
       "       publications    influence    citations  broad_impact\n",
       "count   2200.000000  2200.000000  2200.000000   2000.000000\n",
       "mean     459.908636   459.797727   413.417273    496.699500\n",
       "std      303.760352   303.331822   264.366549    286.919755\n",
       "min        1.000000     1.000000     1.000000      1.000000\n",
       "25%      175.750000   175.750000   161.000000    250.500000\n",
       "50%      450.500000   450.500000   406.000000    496.000000\n",
       "75%      725.000000   725.250000   645.000000    741.000000\n",
       "max     1000.000000   991.000000   812.000000   1000.000000"
      ]
     },
     "execution_count": 74,
     "metadata": {},
     "output_type": "execute_result"
    }
   ],
   "source": [
    "all_but_not = cwur[['publications','influence','citations','broad_impact']]\\\n",
    "        [(cwur.country != 'Argentina') | (cwur.country != 'Brazil')].describe()\n",
    "\n",
    "all_but_not\n",
    "# cwur['country'].unique()"
   ]
  },
  {
   "cell_type": "markdown",
   "metadata": {},
   "source": [
    "#### Quanto que as médias do Brasil e da Argentina conjuntamente representam da média do resto do mundo nos 4 critérios?"
   ]
  },
  {
   "cell_type": "code",
   "execution_count": 78,
   "metadata": {},
   "outputs": [
    {
     "data": {
      "text/plain": [
       "publications   -1.549983\n",
       "influence      -2.465511\n",
       "citations      -1.806060\n",
       "broad_impact   -2.311377\n",
       "dtype: float64"
      ]
     },
     "execution_count": 78,
     "metadata": {},
     "output_type": "execute_result"
    }
   ],
   "source": [
    "mean_brarg = cwur[['publications','influence','citations','broad_impact']]\\\n",
    "                [(cwur.country == 'Brazil') | (cwur.country == 'Argentina')].mean()/100\n",
    "\n",
    "mean_all = cwur[['publications','influence','citations','broad_impact']].mean()/100\n",
    "\n",
    "mean_all - mean_brarg"
   ]
  },
  {
   "cell_type": "markdown",
   "metadata": {},
   "source": [
    "#### Quantas universidades por país?"
   ]
  },
  {
   "cell_type": "code",
   "execution_count": 55,
   "metadata": {},
   "outputs": [
    {
     "data": {
      "text/html": [
       "<div>\n",
       "<style scoped>\n",
       "    .dataframe tbody tr th:only-of-type {\n",
       "        vertical-align: middle;\n",
       "    }\n",
       "\n",
       "    .dataframe tbody tr th {\n",
       "        vertical-align: top;\n",
       "    }\n",
       "\n",
       "    .dataframe thead th {\n",
       "        text-align: right;\n",
       "    }\n",
       "</style>\n",
       "<table border=\"1\" class=\"dataframe\">\n",
       "  <thead>\n",
       "    <tr style=\"text-align: right;\">\n",
       "      <th></th>\n",
       "      <th>institution</th>\n",
       "    </tr>\n",
       "    <tr>\n",
       "      <th>country</th>\n",
       "      <th></th>\n",
       "    </tr>\n",
       "  </thead>\n",
       "  <tbody>\n",
       "    <tr>\n",
       "      <th>Argentina</th>\n",
       "      <td>7</td>\n",
       "    </tr>\n",
       "    <tr>\n",
       "      <th>Australia</th>\n",
       "      <td>58</td>\n",
       "    </tr>\n",
       "    <tr>\n",
       "      <th>Austria</th>\n",
       "      <td>24</td>\n",
       "    </tr>\n",
       "    <tr>\n",
       "      <th>Belgium</th>\n",
       "      <td>20</td>\n",
       "    </tr>\n",
       "    <tr>\n",
       "      <th>Brazil</th>\n",
       "      <td>36</td>\n",
       "    </tr>\n",
       "    <tr>\n",
       "      <th>Bulgaria</th>\n",
       "      <td>2</td>\n",
       "    </tr>\n",
       "    <tr>\n",
       "      <th>Canada</th>\n",
       "      <td>72</td>\n",
       "    </tr>\n",
       "    <tr>\n",
       "      <th>Chile</th>\n",
       "      <td>8</td>\n",
       "    </tr>\n",
       "    <tr>\n",
       "      <th>China</th>\n",
       "      <td>167</td>\n",
       "    </tr>\n",
       "    <tr>\n",
       "      <th>Colombia</th>\n",
       "      <td>4</td>\n",
       "    </tr>\n",
       "    <tr>\n",
       "      <th>Croatia</th>\n",
       "      <td>2</td>\n",
       "    </tr>\n",
       "    <tr>\n",
       "      <th>Cyprus</th>\n",
       "      <td>2</td>\n",
       "    </tr>\n",
       "    <tr>\n",
       "      <th>Czech Republic</th>\n",
       "      <td>10</td>\n",
       "    </tr>\n",
       "    <tr>\n",
       "      <th>Denmark</th>\n",
       "      <td>12</td>\n",
       "    </tr>\n",
       "    <tr>\n",
       "      <th>Egypt</th>\n",
       "      <td>8</td>\n",
       "    </tr>\n",
       "    <tr>\n",
       "      <th>Estonia</th>\n",
       "      <td>2</td>\n",
       "    </tr>\n",
       "    <tr>\n",
       "      <th>Finland</th>\n",
       "      <td>20</td>\n",
       "    </tr>\n",
       "    <tr>\n",
       "      <th>France</th>\n",
       "      <td>109</td>\n",
       "    </tr>\n",
       "    <tr>\n",
       "      <th>Germany</th>\n",
       "      <td>115</td>\n",
       "    </tr>\n",
       "    <tr>\n",
       "      <th>Greece</th>\n",
       "      <td>14</td>\n",
       "    </tr>\n",
       "    <tr>\n",
       "      <th>Hong Kong</th>\n",
       "      <td>12</td>\n",
       "    </tr>\n",
       "    <tr>\n",
       "      <th>Hungary</th>\n",
       "      <td>12</td>\n",
       "    </tr>\n",
       "    <tr>\n",
       "      <th>Iceland</th>\n",
       "      <td>2</td>\n",
       "    </tr>\n",
       "    <tr>\n",
       "      <th>India</th>\n",
       "      <td>31</td>\n",
       "    </tr>\n",
       "    <tr>\n",
       "      <th>Iran</th>\n",
       "      <td>16</td>\n",
       "    </tr>\n",
       "    <tr>\n",
       "      <th>Ireland</th>\n",
       "      <td>16</td>\n",
       "    </tr>\n",
       "    <tr>\n",
       "      <th>Israel</th>\n",
       "      <td>22</td>\n",
       "    </tr>\n",
       "    <tr>\n",
       "      <th>Italy</th>\n",
       "      <td>96</td>\n",
       "    </tr>\n",
       "    <tr>\n",
       "      <th>Japan</th>\n",
       "      <td>159</td>\n",
       "    </tr>\n",
       "    <tr>\n",
       "      <th>Lebanon</th>\n",
       "      <td>2</td>\n",
       "    </tr>\n",
       "    <tr>\n",
       "      <th>Lithuania</th>\n",
       "      <td>2</td>\n",
       "    </tr>\n",
       "    <tr>\n",
       "      <th>Malaysia</th>\n",
       "      <td>6</td>\n",
       "    </tr>\n",
       "    <tr>\n",
       "      <th>Mexico</th>\n",
       "      <td>4</td>\n",
       "    </tr>\n",
       "    <tr>\n",
       "      <th>Netherlands</th>\n",
       "      <td>29</td>\n",
       "    </tr>\n",
       "    <tr>\n",
       "      <th>New Zealand</th>\n",
       "      <td>12</td>\n",
       "    </tr>\n",
       "    <tr>\n",
       "      <th>Norway</th>\n",
       "      <td>12</td>\n",
       "    </tr>\n",
       "    <tr>\n",
       "      <th>Poland</th>\n",
       "      <td>18</td>\n",
       "    </tr>\n",
       "    <tr>\n",
       "      <th>Portugal</th>\n",
       "      <td>14</td>\n",
       "    </tr>\n",
       "    <tr>\n",
       "      <th>Puerto Rico</th>\n",
       "      <td>2</td>\n",
       "    </tr>\n",
       "    <tr>\n",
       "      <th>Romania</th>\n",
       "      <td>3</td>\n",
       "    </tr>\n",
       "    <tr>\n",
       "      <th>Russia</th>\n",
       "      <td>9</td>\n",
       "    </tr>\n",
       "    <tr>\n",
       "      <th>Saudi Arabia</th>\n",
       "      <td>8</td>\n",
       "    </tr>\n",
       "    <tr>\n",
       "      <th>Serbia</th>\n",
       "      <td>2</td>\n",
       "    </tr>\n",
       "    <tr>\n",
       "      <th>Singapore</th>\n",
       "      <td>5</td>\n",
       "    </tr>\n",
       "    <tr>\n",
       "      <th>Slovak Republic</th>\n",
       "      <td>2</td>\n",
       "    </tr>\n",
       "    <tr>\n",
       "      <th>Slovenia</th>\n",
       "      <td>4</td>\n",
       "    </tr>\n",
       "    <tr>\n",
       "      <th>South Africa</th>\n",
       "      <td>10</td>\n",
       "    </tr>\n",
       "    <tr>\n",
       "      <th>South Korea</th>\n",
       "      <td>72</td>\n",
       "    </tr>\n",
       "    <tr>\n",
       "      <th>Spain</th>\n",
       "      <td>81</td>\n",
       "    </tr>\n",
       "    <tr>\n",
       "      <th>Sweden</th>\n",
       "      <td>24</td>\n",
       "    </tr>\n",
       "    <tr>\n",
       "      <th>Switzerland</th>\n",
       "      <td>26</td>\n",
       "    </tr>\n",
       "    <tr>\n",
       "      <th>Taiwan</th>\n",
       "      <td>46</td>\n",
       "    </tr>\n",
       "    <tr>\n",
       "      <th>Thailand</th>\n",
       "      <td>6</td>\n",
       "    </tr>\n",
       "    <tr>\n",
       "      <th>Turkey</th>\n",
       "      <td>20</td>\n",
       "    </tr>\n",
       "    <tr>\n",
       "      <th>USA</th>\n",
       "      <td>573</td>\n",
       "    </tr>\n",
       "    <tr>\n",
       "      <th>Uganda</th>\n",
       "      <td>2</td>\n",
       "    </tr>\n",
       "    <tr>\n",
       "      <th>United Arab Emirates</th>\n",
       "      <td>2</td>\n",
       "    </tr>\n",
       "    <tr>\n",
       "      <th>United Kingdom</th>\n",
       "      <td>144</td>\n",
       "    </tr>\n",
       "    <tr>\n",
       "      <th>Uruguay</th>\n",
       "      <td>2</td>\n",
       "    </tr>\n",
       "  </tbody>\n",
       "</table>\n",
       "</div>"
      ],
      "text/plain": [
       "                      institution\n",
       "country                          \n",
       "Argentina                       7\n",
       "Australia                      58\n",
       "Austria                        24\n",
       "Belgium                        20\n",
       "Brazil                         36\n",
       "Bulgaria                        2\n",
       "Canada                         72\n",
       "Chile                           8\n",
       "China                         167\n",
       "Colombia                        4\n",
       "Croatia                         2\n",
       "Cyprus                          2\n",
       "Czech Republic                 10\n",
       "Denmark                        12\n",
       "Egypt                           8\n",
       "Estonia                         2\n",
       "Finland                        20\n",
       "France                        109\n",
       "Germany                       115\n",
       "Greece                         14\n",
       "Hong Kong                      12\n",
       "Hungary                        12\n",
       "Iceland                         2\n",
       "India                          31\n",
       "Iran                           16\n",
       "Ireland                        16\n",
       "Israel                         22\n",
       "Italy                          96\n",
       "Japan                         159\n",
       "Lebanon                         2\n",
       "Lithuania                       2\n",
       "Malaysia                        6\n",
       "Mexico                          4\n",
       "Netherlands                    29\n",
       "New Zealand                    12\n",
       "Norway                         12\n",
       "Poland                         18\n",
       "Portugal                       14\n",
       "Puerto Rico                     2\n",
       "Romania                         3\n",
       "Russia                          9\n",
       "Saudi Arabia                    8\n",
       "Serbia                          2\n",
       "Singapore                       5\n",
       "Slovak Republic                 2\n",
       "Slovenia                        4\n",
       "South Africa                   10\n",
       "South Korea                    72\n",
       "Spain                          81\n",
       "Sweden                         24\n",
       "Switzerland                    26\n",
       "Taiwan                         46\n",
       "Thailand                        6\n",
       "Turkey                         20\n",
       "USA                           573\n",
       "Uganda                          2\n",
       "United Arab Emirates            2\n",
       "United Kingdom                144\n",
       "Uruguay                         2"
      ]
     },
     "execution_count": 55,
     "metadata": {},
     "output_type": "execute_result"
    }
   ],
   "source": [
    "# cwur.columns\n",
    "cwur[['country','institution']].groupby('country').count()"
   ]
  },
  {
   "cell_type": "markdown",
   "metadata": {
    "colab_type": "text",
    "id": "lmzQaB9Udau8"
   },
   "source": [
    "## Formatação simples"
   ]
  },
  {
   "cell_type": "markdown",
   "metadata": {},
   "source": [
    "* 5 universidades com a maior quantidade de publicações"
   ]
  },
  {
   "cell_type": "code",
   "execution_count": null,
   "metadata": {},
   "outputs": [],
   "source": [
    "cwur.sort_values(by='publications', ascending=False).head(5)[['institution','publications','influence']]"
   ]
  },
  {
   "cell_type": "code",
   "execution_count": null,
   "metadata": {},
   "outputs": [],
   "source": [
    "cwur.sort_values(by=['publications','influence'], ascending=False).head(5)[['institution','publications','influence']]"
   ]
  },
  {
   "cell_type": "markdown",
   "metadata": {
    "colab_type": "text",
    "id": "zLrbAZMkdauu"
   },
   "source": [
    "* Por que acontece o problema a seguir?"
   ]
  },
  {
   "cell_type": "code",
   "execution_count": null,
   "metadata": {
    "colab": {
     "autoexec": {
      "startup": false,
      "wait_interval": 0
     }
    },
    "colab_type": "code",
    "id": "rJol5Rjidauw",
    "outputId": "a3579370-c7e0-4d7e-b0c7-71be122700f9"
   },
   "outputs": [],
   "source": [
    "pubs_sum = cwur.publications.sum()\n",
    "faculty_sum = cwur.quality_of_faculty.sum()\n",
    "impact_sum = cwur.broad_impact.sum()\n",
    "pubs_mean = cwur.publications.mean()\n",
    "faculty_mean = cwur.quality_of_faculty.mean()\n",
    "impact_mean = cwur.broad_impact.mean()\n",
    "\n",
    "print(pubs_sum)\n",
    "print(faculty_sum)\n",
    "print(impact_sum)\n",
    "print('-----------')\n",
    "print(pubs_mean)\n",
    "print(faculty_mean)\n",
    "print(impact_mean)\n",
    "print('-----------')\n",
    "print(pubs_sum/faculty_sum)\n",
    "print(pubs_mean/faculty_mean)\n",
    "print(pubs_sum/impact_sum)\n",
    "print(pubs_mean/impact_mean)"
   ]
  },
  {
   "cell_type": "markdown",
   "metadata": {
    "colab_type": "text",
    "id": "zLrbAZMkdauu"
   },
   "source": [
    "* Podemos evitar problemas eliminando valores com a função [.dropna](https://pandas.pydata.org/docs/reference/api/pandas.DataFrame.dropna.html?highlight=dropna#pandas.DataFrame.dropna)."
   ]
  },
  {
   "cell_type": "code",
   "execution_count": null,
   "metadata": {
    "colab_type": "text",
    "id": "zLrbAZMkdauu"
   },
   "outputs": [],
   "source": [
    "pubs_sum_na = cwur.dropna().publications.sum()\n",
    "impact_sum_na = cwur.dropna().broad_impact.sum()\n",
    "pubs_mean_na = cwur.dropna().publications.mean()\n",
    "impact_mean_na = cwur.dropna().broad_impact.mean()\n",
    "\n",
    "print(pubs_sum_na/impact_sum_na)\n",
    "print(pubs_mean_na/impact_mean_na)"
   ]
  },
  {
   "cell_type": "code",
   "execution_count": null,
   "metadata": {
    "colab": {
     "autoexec": {
      "startup": false,
      "wait_interval": 0
     }
    },
    "colab_type": "code",
    "id": "rJol5Rjidauw",
    "outputId": "a3579370-c7e0-4d7e-b0c7-71be122700f9"
   },
   "outputs": [],
   "source": [
    "cwur[['publications', 'broad_impact']].dropna().describe()"
   ]
  },
  {
   "cell_type": "markdown",
   "metadata": {},
   "source": [
    "* Tipos de dados"
   ]
  },
  {
   "cell_type": "code",
   "execution_count": null,
   "metadata": {},
   "outputs": [],
   "source": [
    "cwur.dtypes"
   ]
  },
  {
   "cell_type": "code",
   "execution_count": null,
   "metadata": {},
   "outputs": [],
   "source": [
    "cwur.year"
   ]
  },
  {
   "cell_type": "code",
   "execution_count": null,
   "metadata": {},
   "outputs": [],
   "source": [
    "cwur.year.astype('str')"
   ]
  },
  {
   "cell_type": "code",
   "execution_count": null,
   "metadata": {},
   "outputs": [],
   "source": [
    "cwur.year.astype('float')"
   ]
  },
  {
   "cell_type": "markdown",
   "metadata": {
    "colab_type": "text",
    "id": "lmzQaB9Udau8"
   },
   "source": [
    "## Agregações conplexas em Pandas (GroupBy: Split, Apply, Combine)\n",
    "\n",
    "* Muitas vezes, é importante poder fazer operações de agregação de forma condicional a algum subconjunto de dados (por exemplo, para casos que atendam a alguma condição). Isso é implementado pelo operador `groupby`\n",
    "* O nome `groupby` é proveniente da linguagem SQL (que será abordada em outras aulas).\n",
    "* É útil pensar sobre os termos de Hadley Wickham: *split, apply, combine* (dividir-aplicar-combinar)"
   ]
  },
  {
   "cell_type": "markdown",
   "metadata": {
    "colab_type": "text",
    "id": "yWp06Pcrdau-"
   },
   "source": [
    "### Split, apply, combine:\n",
    "\n",
    "* A etapa `split` envolve dividir e reagrupar um ``DataFrame`` baseado em uma determinada chave.\n",
    "* A etapa `apply` pressupõe calcular alguma função (geralmente, alguma agregação, transformação ou filtro) sobre os grupos constituídos na etapa anterior.\n",
    "* A etapa `combine` faz uma \"mesclagem\" dos resultados dessas operações em um novo array.\n",
    "\n",
    "#### Embora cada uma das etapas possa ser feita \"manualmente\", o ``GroupBy`` geralmente pode fazê-las em uma única etapa:\n",
    "\n",
    "* A vantagem do ``GroupBy`` é que permite abstrair as três etapas anteriores: o usuário não precisa pensar em \"como\" fazer o cálculo, mas pensar na operação como um todo.\n",
    "\n",
    "#### A operação `split`-`apply`-`combine` mais básica com o método ``groupby()`` é passar o nome de uma chave de coluna específica."
   ]
  },
  {
   "cell_type": "markdown",
   "metadata": {
    "colab_type": "text",
    "id": "4lcsVfsPdavA"
   },
   "source": [
    "### O objeto GroupBy\n",
    "\n",
    "* O objeto ``GroupBy`` é uma abstração muito flexível.\n",
    "* Pode ser tratado como uma coleção de `DataFrame` e faz algumas coisas complicadas em segundo plano...\n",
    "* Talvez as operações mais importantes de um objeto ``GroupBy`` sejam *aggregate*, *filter*, *transform* e *apply*"
   ]
  },
  {
   "cell_type": "code",
   "execution_count": null,
   "metadata": {
    "colab": {
     "autoexec": {
      "startup": false,
      "wait_interval": 0
     }
    },
    "colab_type": "code",
    "id": "yi6Q3MAJdavB",
    "outputId": "6001e6c3-0242-4608-de3b-994fc3bdc96c"
   },
   "outputs": [],
   "source": [
    "cwur.groupby('country')"
   ]
  },
  {
   "cell_type": "markdown",
   "metadata": {
    "colab_type": "text",
    "id": "X0gWdcAGdavF"
   },
   "source": [
    "* Observe que o método [.groupby()](https://pandas.pydata.org/docs/reference/api/pandas.DataFrame.groupby.html?highlight=groupby#pandas-dataframe-groupby) não retorna um ``DataFrame``, mas um objeto ``DataFrameGroupBy``. Podemos pensar no `DataFrameGroupBy` como uma visualização especial de um `DataFrame` que constrói os grupos, mas não executa nenhum cálculo até que o estágio de agregação seja aplicado.\n",
    "\n",
    "* Esta avaliação faz com que as operações de agregação possam ser calculadas de forma muito eficiente. Para produzir um resultado, podemos aplicar uma função de agregação a este ``DataFrameGroupBy`` para executar a operação (aplicar) e prosseguir na etapa de combinação."
   ]
  },
  {
   "cell_type": "code",
   "execution_count": null,
   "metadata": {},
   "outputs": [],
   "source": [
    "cwur.groupby('country').sum().sort_values(\"citations\", ascending = False).head()"
   ]
  },
  {
   "cell_type": "markdown",
   "metadata": {
    "colab_type": "text",
    "id": "kUINCERbdavJ"
   },
   "source": [
    "* Qualquer operação de agregação comum de Pandas ou NumPy e quase qualquer operação válida para um `DataFrame` podem ser executadas virtualmente, como veremos a seguir."
   ]
  },
  {
   "cell_type": "markdown",
   "metadata": {
    "colab_type": "text",
    "id": "wp_G5OvSdavK"
   },
   "source": [
    "### Indexing de colunas\n",
    "\n",
    "* O objeto ``Group By`` dá suporte à indexação de colunas da mesma forma que um ``DataFrame`` e retorna um objeto ``GroupBy`` modificado:"
   ]
  },
  {
   "cell_type": "code",
   "execution_count": null,
   "metadata": {
    "colab": {
     "autoexec": {
      "startup": false,
      "wait_interval": 0
     }
    },
    "colab_type": "code",
    "id": "N98SooWOdavL",
    "outputId": "a38f099d-431c-4efc-9dae-5e80cdc10b9b"
   },
   "outputs": [],
   "source": [
    "cwur.groupby('country')['patents']"
   ]
  },
  {
   "cell_type": "markdown",
   "metadata": {
    "colab_type": "text",
    "id": "ZkClgBEQdavQ"
   },
   "source": [
    "* Selecionar uma ``Series`` em particular do ``DataFrame`` original referenciando-o com o seu nome da coluna.\n",
    "* Como antes, nenhum cálculo é feito até que alguma função de agregação sobre o objeto seja invocada."
   ]
  },
  {
   "cell_type": "code",
   "execution_count": null,
   "metadata": {
    "colab": {
     "autoexec": {
      "startup": false,
      "wait_interval": 0
     }
    },
    "colab_type": "code",
    "id": "R0z12nwYdavQ",
    "outputId": "3b5f4046-fad9-4b65-a27e-d2daceab785f"
   },
   "outputs": [],
   "source": [
    "cwur.groupby('country')['patents'].sum().sort_values(ascending = False)"
   ]
  },
  {
   "cell_type": "markdown",
   "metadata": {
    "colab_type": "text",
    "id": "7hMaWPJAdavT"
   },
   "source": [
    "* O que é observado nesses casos?"
   ]
  },
  {
   "cell_type": "markdown",
   "metadata": {
    "colab_type": "text",
    "id": "pxh5OcdRdavU"
   },
   "source": [
    "Iteração sobre grupos:\n",
    "\n",
    "* O objeto ``GroupBy`` suporta a iteração direta sobre grupos, retornando cada grupo como uma ``Series`` ou um ``DataFrame``.\n"
   ]
  },
  {
   "cell_type": "code",
   "execution_count": null,
   "metadata": {
    "colab": {
     "autoexec": {
      "startup": false,
      "wait_interval": 0
     }
    },
    "colab_type": "code",
    "id": "-V8nZy-DdavW",
    "outputId": "5c9ffa65-c047-4124-a591-1e67a7eca8e2"
   },
   "outputs": [],
   "source": [
    "for (pais, group) in cwur.groupby('country'):\n",
    "    print(\"{0:20s} shape = {1} \".format(pais, group.shape))"
   ]
  },
  {
   "cell_type": "markdown",
   "metadata": {
    "colab_type": "text",
    "id": "9EmU2fC-davZ"
   },
   "source": [
    "* A função [str.format](https://docs.python.org/3.4/library/stdtypes.html#str.format) desempenha a operação de formatação de uma \"string\". Embora possamos fazer este tipo de operações manualmente, veremos a seguir o potencial que as funcionalidades ``apply`` têm."
   ]
  },
  {
   "cell_type": "markdown",
   "metadata": {
    "colab_type": "text",
    "id": "4pgcnQoJdavZ"
   },
   "source": [
    " Dispatch methods:\n",
    "\n",
    "* Qualquer método que não tenha sido implementado explicitamente pelo objeto `GroupBy` será executado em cada grupo.\n",
    "* Por exemplo, o método `describe()` de `DataFrames` pode ser usado para executar muitas operações de agregação dentro de cada grupo."
   ]
  },
  {
   "cell_type": "code",
   "execution_count": null,
   "metadata": {
    "colab": {
     "autoexec": {
      "startup": false,
      "wait_interval": 0
     }
    },
    "colab_type": "code",
    "id": "RhWYkV7Rdavc",
    "outputId": "5a73ad24-288c-4c94-feb8-4482b18621a7"
   },
   "outputs": [],
   "source": [
    "cwur.groupby('country')['score'].describe()"
   ]
  },
  {
   "cell_type": "markdown",
   "metadata": {
    "colab_type": "text",
    "id": "1Yzwh9ljdavm"
   },
   "source": [
    " O que pode ser dito sobre esses dados? \n",
    "\n",
    "* Este é apenas um exemplo da utilidade desses métodos. Observar que eles são aplicados a cada um dos grupos individuais e que os resultados são combinados em um objeto `GroupBy`, e retornados."
   ]
  },
  {
   "cell_type": "markdown",
   "metadata": {
    "colab_type": "text",
    "id": "AZNjGcv0davn"
   },
   "source": [
    "### Aggregate, filter, transform, apply\n",
    "\n",
    "* Há muitas outras opções de operações disponíveis.\n",
    "* Os objetos ``GroupBy`` têm alguns métodos muito úteis: ``aggregate()``, ``filter()``, ``transform()`` e ``apply()`` que implementam muitas operações na etapa anterior ao \"combine\"\n",
    "\n",
    "* Vamos ilustrar estas operações com o seguinte ``DataFrame``:"
   ]
  },
  {
   "cell_type": "markdown",
   "metadata": {},
   "source": [
    "* A função [.aggregate()](https://pandas.pydata.org/pandas-docs/stable/reference/api/pandas.DataFrame.aggregate.html#pandas-dataframe-aggregate) agrega dados usando um ou mais operações sobre o eixo especificado."
   ]
  },
  {
   "cell_type": "markdown",
   "metadata": {
    "colab_type": "text",
    "id": "cE4K2_rYdavo"
   },
   "source": [
    "### Aggregation\n",
    "\n",
    "* O método `.aggregate()` possibilita uma grande flexibilidade:\n",
    "* Pode aceitar uma string, uma função ou uma lista e calcular todos os agregados em uma única etapa."
   ]
  },
  {
   "cell_type": "markdown",
   "metadata": {},
   "source": [
    "* A seguir vamos agregar os dados de mínimo, máximo, média e soma as medida de \"score\" por instituição."
   ]
  },
  {
   "cell_type": "code",
   "execution_count": null,
   "metadata": {
    "colab": {
     "autoexec": {
      "startup": false,
      "wait_interval": 0
     }
    },
    "colab_type": "code",
    "id": "RjlhaNzpdavp",
    "outputId": "4c97e0d9-4c5e-4738-858d-9c77d5a2ef95"
   },
   "outputs": [],
   "source": [
    "cwur.groupby('institution')[\"score\"].aggregate([min, np.median, max, sum, ])"
   ]
  },
  {
   "cell_type": "markdown",
   "metadata": {
    "colab_type": "text",
    "id": "KTYYEW19davs"
   },
   "source": [
    "* Outra maneira útil é usar um dicionário que mapeia nomes de coluna com operações. Desta forma, a operação é aplicada a cada coluna."
   ]
  },
  {
   "cell_type": "markdown",
   "metadata": {
    "colab_type": "text",
    "id": "n_MsmZQxdavw"
   },
   "source": [
    "### Filtering\n",
    "\n",
    "* Uma operação de filtragem permite \"descartar\" dados com base nas propriedades do grupo.\n",
    "* Por exemplo, podemos querer manter todos os grupos onde o desvio padrão é maior que algum valor de corte:"
   ]
  },
  {
   "cell_type": "markdown",
   "metadata": {},
   "source": [
    "Abaixo podemos filtrar as instituições que possuem um número de citações maior ou igual a um determinado valor de corte."
   ]
  },
  {
   "cell_type": "code",
   "execution_count": null,
   "metadata": {
    "colab": {
     "autoexec": {
      "startup": false,
      "wait_interval": 0
     }
    },
    "colab_type": "code",
    "id": "LdWLZ0Jndavx",
    "outputId": "9544d329-d346-41ce-d33b-7d5d0cc0d76a"
   },
   "outputs": [],
   "source": [
    "def filter_func(x):\n",
    "    return x[\"citations\"].sum() >= 1500\n",
    "\n",
    "cwur.groupby('institution').filter(filter_func)[\"institution\"].unique()"
   ]
  },
  {
   "cell_type": "markdown",
   "metadata": {
    "colab_type": "text",
    "id": "xXw14lXVdav0"
   },
   "source": [
    "* A função filtro retorna um booleano especificando se o grupo passa pelo filtro ou não. "
   ]
  },
  {
   "cell_type": "markdown",
   "metadata": {
    "colab_type": "text",
    "id": "484J9yM-dav2"
   },
   "source": [
    "### Transformation\n",
    "\n",
    "* Enquanto a agregação retorna uma versão reduzida dos dados, a transformação retorna alguma versão transformada dos dados para, então, fazer a combinação.\n",
    "* A saída de uma transformação tem o mesmo `shape` que a entrada."
   ]
  },
  {
   "cell_type": "markdown",
   "metadata": {},
   "source": [
    "* O método [.transform()](https://pandas.pydata.org/pandas-docs/stable/reference/api/pandas.DataFrame.transform.html) chama uma função \"on self\", produzindo um Data Frame com valores transformados pela função chamada."
   ]
  },
  {
   "cell_type": "code",
   "execution_count": null,
   "metadata": {
    "colab": {
     "autoexec": {
      "startup": false,
      "wait_interval": 0
     }
    },
    "colab_type": "code",
    "id": "Aa4DsCQvdav2",
    "outputId": "9d68eca0-021a-4779-8be1-75f3a47f98bc"
   },
   "outputs": [],
   "source": [
    "def center_mean(x):\n",
    "    return(x - x.mean())\n",
    "\n",
    "print(cwur[[\"country\",\"publications\"]].groupby('country').transform(center_mean))"
   ]
  },
  {
   "cell_type": "markdown",
   "metadata": {
    "colab_type": "text",
    "id": "M1GsvK4Vdav6"
   },
   "source": [
    "### O método `apply()`:\n",
    "\n",
    "O método [.apply()](https://pandas.pydata.org/pandas-docs/version/0.22.0/generated/pandas.DataFrame.apply.html) aplica uma função ao longo do eixo especificado do DataFrame. \n",
    "\n",
    "* O método `apply()` permite aplicar alguma função dada aos resultados do grupo.\n",
    "* A função deve tomar como entrada ``DataFrame`` e retornar um objeto de Pandas (``DataFrame``, ``Series``) ou um escalar. \n",
    "* A operação combine será adaptada ao tipo de saída retornada."
   ]
  },
  {
   "cell_type": "markdown",
   "metadata": {},
   "source": [
    "* Vamos primeiro tornar a coluna `national_rank` em uma tipo string, uma vez que não vamos operar matematicametne sobre esse índice."
   ]
  },
  {
   "cell_type": "code",
   "execution_count": null,
   "metadata": {},
   "outputs": [],
   "source": [
    "cwur['national_rank'] = cwur['national_rank'].apply(str)"
   ]
  },
  {
   "cell_type": "code",
   "execution_count": null,
   "metadata": {
    "colab": {
     "autoexec": {
      "startup": false,
      "wait_interval": 0
     }
    },
    "colab_type": "code",
    "id": "AalCvoNldauG",
    "outputId": "dbe715ef-22f3-4872-c32c-a7d038c3117f"
   },
   "outputs": [],
   "source": [
    "cwur[\"national_rank\"]"
   ]
  },
  {
   "cell_type": "markdown",
   "metadata": {
    "colab_type": "text",
    "id": "M1GsvK4Vdav6"
   },
   "source": [
    "Aqui aplicamos o método `.apply()` juntamente com o método `.groupby()` e o resultado é uma coluna de citações normalizada pela número total de publicações da instituição."
   ]
  },
  {
   "cell_type": "code",
   "execution_count": null,
   "metadata": {},
   "outputs": [],
   "source": [
    "# O resultado é uma coluna PASSAGEIROS normalizada pela participação do grupo no total de passageiros da província\n",
    "def norm_by_data2(x):\n",
    "    # x is a DataFrame of group values\n",
    "#    x['publications'] /= x['citations'].sum()\n",
    "    x['citations'] /= x['publications'].sum()\n",
    "    return x\n",
    "\n",
    "cwur[[\"country\",\"publications\",\"citations\", \"institution\"]].groupby('institution').apply(norm_by_data2)"
   ]
  },
  {
   "cell_type": "markdown",
   "metadata": {
    "colab_type": "text",
    "id": "GFGWj_Atdav-"
   },
   "source": [
    "* Como podemos interpretar a tabela acima?"
   ]
  },
  {
   "cell_type": "markdown",
   "metadata": {
    "colab_type": "text",
    "id": "_acHJjs_dav_"
   },
   "source": [
    "### Especificando a chave do \"split\"\n",
    "\n",
    "* No exemplo anterior, o split do ``DataFrame`` foi feito em uma única coluna.\n",
    "* Há outras opções..."
   ]
  },
  {
   "cell_type": "markdown",
   "metadata": {
    "colab_type": "text",
    "id": "Fuv9oMN9dav_"
   },
   "source": [
    "#### Podemos pensar em uma lista, arranjo, series ou index que contenha as chaves do agrupamento, vamos a seguir realizar a soma de todos de todas as colunas númericas, discriminadas pela instituição e agrupadas por país."
   ]
  },
  {
   "cell_type": "code",
   "execution_count": null,
   "metadata": {},
   "outputs": [],
   "source": [
    "L = [\"country\",\"institution\"]\n",
    "cwur.drop(['year'], axis = 1).groupby(L).sum()"
   ]
  },
  {
   "cell_type": "markdown",
   "metadata": {},
   "source": [
    "#### Podemos também reazilar uma soma generalizada das métricas por país."
   ]
  },
  {
   "cell_type": "code",
   "execution_count": null,
   "metadata": {
    "colab": {
     "autoexec": {
      "startup": false,
      "wait_interval": 0
     }
    },
    "colab_type": "code",
    "id": "yfCPvsROdawE",
    "outputId": "54c465b0-4489-4da6-ee5c-aa330cdacb77"
   },
   "outputs": [],
   "source": [
    "cwur.drop(['year'], axis = 1).groupby(\"country\").sum().head()\n"
   ]
  },
  {
   "cell_type": "markdown",
   "metadata": {},
   "source": [
    "#### A forma a seguir é equivalente à anterior."
   ]
  },
  {
   "cell_type": "code",
   "execution_count": null,
   "metadata": {
    "colab": {
     "autoexec": {
      "startup": false,
      "wait_interval": 0
     }
    },
    "colab_type": "code",
    "id": "qcmUwwuLdawI",
    "outputId": "ea92285b-0aca-4c13-ab9f-cb97951141fd"
   },
   "outputs": [],
   "source": [
    "cwur.drop(['year'], axis = 1).groupby(cwur[\"country\"]).sum().head()"
   ]
  },
  {
   "cell_type": "markdown",
   "metadata": {
    "colab_type": "text",
    "id": "vUB73KuZdawN"
   },
   "source": [
    "#### Podemos definir uma das colunas  como índice de um novo dataframe e criar um dicionário das cinco primeiras universidades rankeadas, como a soma de diversas quantidades."
   ]
  },
  {
   "cell_type": "code",
   "execution_count": null,
   "metadata": {},
   "outputs": [],
   "source": [
    "cwur2 = cwur.drop(['world_rank',\n",
    "            'national_rank',\n",
    "            'year',\n",
    "            'quality_of_education',\n",
    "            'quality_of_faculty',\n",
    "            'influence'\n",
    "                  ], \n",
    "                  axis = 1\n",
    "                 )\n",
    "cwur2 = cwur2.set_index('institution')\n",
    "cwur2\n",
    "mapping = {'Harvard University': 'HU',\n",
    "           'Massachusetts Institute of Technology': 'MIT',\n",
    "           'Stanford University': 'SU',\n",
    "           'University of Cambridge': 'UoC',\n",
    "           'California Institute of Technology': 'Calteh'\n",
    "          }\n",
    "cwur2.groupby(mapping).sum()"
   ]
  },
  {
   "cell_type": "markdown",
   "metadata": {
    "colab_type": "text",
    "id": "1q4mFV7fdawV"
   },
   "source": [
    "#### Podemos agrupar o dataframe original por país e verificar as médias das métricas escolhidas. "
   ]
  },
  {
   "cell_type": "code",
   "execution_count": null,
   "metadata": {
    "colab": {
     "autoexec": {
      "startup": false,
      "wait_interval": 0
     }
    },
    "colab_type": "code",
    "id": "Rkm4zd0udawW",
    "outputId": "a7ae7392-3ecb-4d68-93fe-786cb11fbfcd"
   },
   "outputs": [],
   "source": [
    "cwur.drop(['world_rank', \n",
    "           'national_rank', \n",
    "           'quality_of_education', \n",
    "           'quality_of_faculty', \n",
    "           'year'], axis = 1\n",
    "         ).groupby('country').mean()"
   ]
  },
  {
   "cell_type": "markdown",
   "metadata": {
    "colab_type": "text",
    "id": "_B_n7X64dawa"
   },
   "source": [
    "#### Uma lista de chaves válidas pode ser agrupada com base em multi-indexadores."
   ]
  },
  {
   "cell_type": "code",
   "execution_count": null,
   "metadata": {
    "colab": {
     "autoexec": {
      "startup": false,
      "wait_interval": 0
     }
    },
    "colab_type": "code",
    "id": "4rtJt0xYdawc",
    "outputId": "b702f001-b21b-4e6f-8af9-26a7dc784b5c"
   },
   "outputs": [],
   "source": [
    "cwur2 = cwur.drop(['world_rank',\n",
    "            'national_rank',\n",
    "            'year',\n",
    "            'quality_of_education',\n",
    "            'quality_of_faculty',\n",
    "            'influence'\n",
    "                  ], \n",
    "                  axis = 1\n",
    "                 )\n",
    "cwur2 = cwur2.set_index('institution')\n",
    "cwur2\n",
    "mapping = {'Harvard University': 'HU',\n",
    "           'Massachusetts Institute of Technology': 'MIT',\n",
    "           'Stanford University': 'SU',\n",
    "           'University of Cambridge': 'UoC',\n",
    "           'California Institute of Technology': 'Calteh'\n",
    "          }\n",
    "cwur2.groupby([str.lower, mapping]).mean()"
   ]
  },
  {
   "cell_type": "markdown",
   "metadata": {},
   "source": [
    "#### Exemplo de aplicação:\n",
    "\n",
    "* Imagine que queremos descobrir qual a fração de publicações, entre as universidades cujos \"scores\" superam um determinado valor de corte \"scoreCut\".\n",
    " \n",
    "* Queremos agrupar a tabela por instituição e seu país de origem e realizar a soma do número de publicações, por agrupamento e dividir esse valor pela soma total de publicações das instituições que superam \"scoreCut\"."
   ]
  },
  {
   "cell_type": "code",
   "execution_count": null,
   "metadata": {},
   "outputs": [],
   "source": [
    "scoreCut = 80.00\n",
    "cwur.loc[cwur['score'] >= \n",
    "         scoreCut].groupby(['institution', \n",
    "                            'country'])['publications'].sum().unstack().fillna(0) / sum(cwur.loc[cwur['score'] >= \n",
    "                                                                                                 80.00, \n",
    "                                                                                                 \"publications\"])*100\n"
   ]
  },
  {
   "cell_type": "markdown",
   "metadata": {},
   "source": [
    "#### Perceba que a função [unstack()](https://pandas.pydata.org/pandas-docs/stable/reference/api/pandas.DataFrame.unstack.html) permito o pivotamento do dataframe, na coluna `country`. A função [fillna()](https://pandas.pydata.org/pandas-docs/stable/reference/api/pandas.DataFrame.fillna.html?highlight=fillna#pandas.DataFrame.fillna) preenche possíveis valores NA/NaN com o valor especificado."
   ]
  }
 ],
 "metadata": {
  "colab": {
   "default_view": {},
   "name": "PRACTICA_GUIADA_1_Pandas_2_pt_br.ipynb",
   "provenance": [],
   "version": "0.3.2",
   "views": {}
  },
  "kernelspec": {
   "display_name": "Python 3",
   "language": "python",
   "name": "python3"
  },
  "language_info": {
   "codemirror_mode": {
    "name": "ipython",
    "version": 3
   },
   "file_extension": ".py",
   "mimetype": "text/x-python",
   "name": "python",
   "nbconvert_exporter": "python",
   "pygments_lexer": "ipython3",
   "version": "3.9.5"
  },
  "toc-autonumbering": true,
  "toc-showcode": false
 },
 "nbformat": 4,
 "nbformat_minor": 4
}
