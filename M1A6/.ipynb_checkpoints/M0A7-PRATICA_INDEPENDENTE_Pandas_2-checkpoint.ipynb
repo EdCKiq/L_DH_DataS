{
 "cells": [
  {
   "cell_type": "markdown",
   "metadata": {},
   "source": [
    "# PRATICA_INDEPENDENTE - Pandas 2."
   ]
  },
  {
   "cell_type": "markdown",
   "metadata": {},
   "source": [
    "## Introdução\n",
    "\n",
    "### Contexto:\n",
    "\n",
    "#### Esse conjunto de dados é um registro de cada edifício ou unidade de edifício (apartamento etc.) vendidos no mercado imobiliário de Nova York durante um período de 12 meses.\n",
    "\n",
    "### Conteúdo:\n",
    "\n",
    "#### Esse dataset contem o local (location), endereço (address), tipo (type), preço de venda (sale price) e data de venda (sale date) de unidades do edifício. Veja a seguir algumas referências  sobre os campos:\n",
    "\n",
    "* BOROUGH: Um código para definir o bairo em que a propriedade está localizada:\n",
    "    - Manhattan (1), \n",
    "    - Bronx (2), \n",
    "    - Brooklyn (3), \n",
    "    - Queens (4), \n",
    "    - Staten Island (5).\n",
    "\n",
    "* BLOCK; LOT: A combinação do bairro \"borough\", bloco \"block\", e lote \"lot\" forma uma chave única para a propriedade em New York City. Chamado de BBL.\n",
    "\n",
    "* BUILDING CLASS AT PRESENT e BUILDING CLASS AT TIME OF SALE: O tipo de edifício em vários pontos no tempo. Veja o glossário abaixo:\n",
    "\n",
    "#### Para referência adicional em campos individuais, consulte o [Glossário de Termos](https://www1.nyc.gov/assets/finance/downloads/pdf/07pdf/glossary_rsf071607.pdf). Para os códigos de classificação de construção, consulte o Glossário de classificações de construção de [NYC Property Sales](https://www.kaggle.com/new-york-city/nyc-property-sales)."
   ]
  },
  {
   "cell_type": "markdown",
   "metadata": {},
   "source": [
    "## Importamos os pacotes necessários e carregamos os dados."
   ]
  },
  {
   "cell_type": "code",
   "execution_count": 1,
   "metadata": {},
   "outputs": [],
   "source": [
    "import numpy as np\n",
    "import pandas as pd\n",
    "from scipy import stats, integrate\n",
    "import seaborn as sns\n",
    "import matplotlib.pyplot as plt\n",
    "sns.set(style=\"ticks\")"
   ]
  },
  {
   "cell_type": "code",
   "execution_count": 19,
   "metadata": {
    "scrolled": true
   },
   "outputs": [],
   "source": [
    "dataset = pd.read_csv('nyc-rolling-sales_twentieth.csv')"
   ]
  },
  {
   "cell_type": "markdown",
   "metadata": {},
   "source": [
    "### Exercício 1: Avalie os [tipos](https://realpython.com/python-data-types/#type-conversion) das colunas e faça as alterações necessárias."
   ]
  },
  {
   "cell_type": "code",
   "execution_count": 14,
   "metadata": {},
   "outputs": [
    {
     "name": "stdout",
     "output_type": "stream",
     "text": [
      "<class 'pandas.core.frame.DataFrame'>\n",
      "RangeIndex: 16909 entries, 0 to 16908\n",
      "Data columns (total 22 columns):\n",
      " #   Column                          Non-Null Count  Dtype         \n",
      "---  ------                          --------------  -----         \n",
      " 0   Unnamed: 0                      16909 non-null  int64         \n",
      " 1   BOROUGH                         16909 non-null  int64         \n",
      " 2   NEIGHBORHOOD                    16909 non-null  object        \n",
      " 3   BUILDING CLASS CATEGORY         16909 non-null  object        \n",
      " 4   TAX CLASS AT PRESENT            16909 non-null  object        \n",
      " 5   BLOCK                           16909 non-null  int64         \n",
      " 6   LOT                             16909 non-null  int64         \n",
      " 7   EASE-MENT                       16909 non-null  object        \n",
      " 8   BUILDING CLASS AT PRESENT       16909 non-null  object        \n",
      " 9   ADDRESS                         16909 non-null  object        \n",
      " 10  APARTMENT NUMBER                16909 non-null  object        \n",
      " 11  ZIP CODE                        16909 non-null  int64         \n",
      " 12  RESIDENTIAL UNITS               16909 non-null  int64         \n",
      " 13  COMMERCIAL UNITS                16909 non-null  int64         \n",
      " 14  TOTAL UNITS                     16909 non-null  int64         \n",
      " 15  LAND SQUARE FEET                16909 non-null  object        \n",
      " 16  GROSS SQUARE FEET               16909 non-null  object        \n",
      " 17  YEAR BUILT                      16909 non-null  int64         \n",
      " 18  TAX CLASS AT TIME OF SALE       16909 non-null  int64         \n",
      " 19  BUILDING CLASS AT TIME OF SALE  16909 non-null  object        \n",
      " 20  SALE PRICE                      16909 non-null  object        \n",
      " 21  SALE DATE                       16909 non-null  datetime64[ns]\n",
      "dtypes: datetime64[ns](1), int64(10), object(11)\n",
      "memory usage: 2.8+ MB\n"
     ]
    }
   ],
   "source": [
    "dataset.info()"
   ]
  },
  {
   "cell_type": "markdown",
   "metadata": {},
   "source": [
    "### Vamos aterar os tipos de algumas colunas."
   ]
  },
  {
   "cell_type": "code",
   "execution_count": 20,
   "metadata": {},
   "outputs": [],
   "source": [
    "dataset['SALE DATE'] = pd.to_datetime(dataset['SALE DATE'])"
   ]
  },
  {
   "cell_type": "markdown",
   "metadata": {},
   "source": [
    "### Vamos eliminar as linhas que contêm valores `NaN`."
   ]
  },
  {
   "cell_type": "code",
   "execution_count": 15,
   "metadata": {},
   "outputs": [],
   "source": [
    "## Como podemos ver no '.info()', nesta database não há nulos, mes se tivesse\n",
    "dataset.dropna(inplace=True)"
   ]
  },
  {
   "cell_type": "markdown",
   "metadata": {},
   "source": [
    "### Qual é o valor médio do metro quadrado em NY?"
   ]
  },
  {
   "cell_type": "code",
   "execution_count": 42,
   "metadata": {},
   "outputs": [],
   "source": [
    "# dataset['SALE PRICE']\n",
    "def w(i):\n",
    "    if i == ' -  ':\n",
    "        return 0\n",
    "    else:\n",
    "        return i\n",
    "    \n",
    "dataset['SALE PRICE'] = dataset['SALE PRICE'].apply(w)\n",
    "\n",
    "# dataset[dataset['SALE PRICE'].index == 2]\n",
    "# dataset['SALE PRICE'][1] Especifica item\n",
    "\n",
    "dataset['SALE PRICE'] = pd.to_numeric(dataset['SALE PRICE'])"
   ]
  },
  {
   "cell_type": "code",
   "execution_count": 64,
   "metadata": {},
   "outputs": [],
   "source": [
    "# dataset['GROSS SQUARE FEET']\n",
    "\n",
    "def zx(i):\n",
    "    if i == ' -  ':\n",
    "        return 0\n",
    "    else:\n",
    "        return int(i)\n",
    "    \n",
    "dataset['GROSS SQUARE FEET'] = dataset['GROSS SQUARE FEET'].apply(zx)\n",
    "\n",
    "dataset['GROSS SQUARE FEET'] = pd.to_numeric(dataset['GROSS SQUARE FEET'])\n",
    "\n",
    "# dataset['GROSS SQUARE FEET'][16908]"
   ]
  },
  {
   "cell_type": "code",
   "execution_count": 73,
   "metadata": {},
   "outputs": [
    {
     "data": {
      "text/plain": [
       "774.7"
      ]
     },
     "execution_count": 73,
     "metadata": {},
     "output_type": "execute_result"
    }
   ],
   "source": [
    "result = dataset['SALE PRICE'].mean() / dataset['GROSS SQUARE FEET'].mean()\n",
    "round(result,2)"
   ]
  },
  {
   "cell_type": "markdown",
   "metadata": {},
   "source": [
    "### Qual o preço médio por metro quadrado de cada `BLOCK`? Organizar os dados para indicar qual é o mais caro.\n",
    "Nota: fazer o cálculo tanto com groupby como com pivot tables"
   ]
  },
  {
   "cell_type": "code",
   "execution_count": null,
   "metadata": {},
   "outputs": [],
   "source": []
  },
  {
   "cell_type": "code",
   "execution_count": null,
   "metadata": {},
   "outputs": [],
   "source": []
  },
  {
   "cell_type": "markdown",
   "metadata": {},
   "source": [
    "### Em qual `BLOCK` há maior dispersão de preços por metro quadrado? Organizar os valores para identificar o maior.\n",
    "\n",
    "(Lembrar da fórmula do coeficiente de variação para medir a dispersão)"
   ]
  },
  {
   "cell_type": "markdown",
   "metadata": {},
   "source": [
    "**Pistas**\n",
    "* A primeira opção é definir uma função com arrays e utilizar `.apply()`"
   ]
  },
  {
   "cell_type": "code",
   "execution_count": null,
   "metadata": {},
   "outputs": [],
   "source": []
  },
  {
   "cell_type": "markdown",
   "metadata": {},
   "source": [
    "* A segunda, é gerar duas séries: \n",
    "  - uma com o método `.std()` e dividi-la por outra série gerada com `mean()`"
   ]
  },
  {
   "cell_type": "code",
   "execution_count": null,
   "metadata": {},
   "outputs": [],
   "source": []
  },
  {
   "cell_type": "markdown",
   "metadata": {},
   "source": [
    "### Em qual bairro os apartamentos são maiores? \n",
    "Nota: o cálculo pode ser feiro tanto com groupby como com pivot tables"
   ]
  },
  {
   "cell_type": "code",
   "execution_count": 81,
   "metadata": {},
   "outputs": [],
   "source": [
    "def zx(i):\n",
    "    if i == ' -  ':\n",
    "        return 0\n",
    "    else:\n",
    "        return int(i)\n",
    "    \n",
    "dataset['LAND SQUARE FEET'] = dataset['LAND SQUARE FEET'].apply(zx)\n",
    "dataset['LAND SQUARE FEET'] = pd.to_numeric(dataset['LAND SQUARE FEET'])"
   ]
  },
  {
   "cell_type": "code",
   "execution_count": 82,
   "metadata": {},
   "outputs": [
    {
     "data": {
      "text/html": [
       "<div>\n",
       "<style scoped>\n",
       "    .dataframe tbody tr th:only-of-type {\n",
       "        vertical-align: middle;\n",
       "    }\n",
       "\n",
       "    .dataframe tbody tr th {\n",
       "        vertical-align: top;\n",
       "    }\n",
       "\n",
       "    .dataframe thead th {\n",
       "        text-align: right;\n",
       "    }\n",
       "</style>\n",
       "<table border=\"1\" class=\"dataframe\">\n",
       "  <thead>\n",
       "    <tr style=\"text-align: right;\">\n",
       "      <th></th>\n",
       "      <th>LAND SQUARE FEET</th>\n",
       "    </tr>\n",
       "    <tr>\n",
       "      <th>NEIGHBORHOOD</th>\n",
       "      <th></th>\n",
       "    </tr>\n",
       "  </thead>\n",
       "  <tbody>\n",
       "    <tr>\n",
       "      <th>FASHION</th>\n",
       "      <td>364000</td>\n",
       "    </tr>\n",
       "    <tr>\n",
       "      <th>SOUTHBRIDGE</th>\n",
       "      <td>357935</td>\n",
       "    </tr>\n",
       "    <tr>\n",
       "      <th>HARLEM-CENTRAL</th>\n",
       "      <td>189025</td>\n",
       "    </tr>\n",
       "    <tr>\n",
       "      <th>KIPS BAY</th>\n",
       "      <td>141836</td>\n",
       "    </tr>\n",
       "    <tr>\n",
       "      <th>TRIBECA</th>\n",
       "      <td>94530</td>\n",
       "    </tr>\n",
       "    <tr>\n",
       "      <th>MIDTOWN CBD</th>\n",
       "      <td>81336</td>\n",
       "    </tr>\n",
       "    <tr>\n",
       "      <th>SOHO</th>\n",
       "      <td>69096</td>\n",
       "    </tr>\n",
       "    <tr>\n",
       "      <th>FINANCIAL</th>\n",
       "      <td>53632</td>\n",
       "    </tr>\n",
       "    <tr>\n",
       "      <th>UPPER WEST SIDE (79-96)</th>\n",
       "      <td>40350</td>\n",
       "    </tr>\n",
       "    <tr>\n",
       "      <th>JAVITS CENTER</th>\n",
       "      <td>39779</td>\n",
       "    </tr>\n",
       "    <tr>\n",
       "      <th>UPPER EAST SIDE (59-79)</th>\n",
       "      <td>35975</td>\n",
       "    </tr>\n",
       "    <tr>\n",
       "      <th>UPPER WEST SIDE (59-79)</th>\n",
       "      <td>34300</td>\n",
       "    </tr>\n",
       "    <tr>\n",
       "      <th>ALPHABET CITY</th>\n",
       "      <td>33650</td>\n",
       "    </tr>\n",
       "    <tr>\n",
       "      <th>UPPER EAST SIDE (79-96)</th>\n",
       "      <td>31058</td>\n",
       "    </tr>\n",
       "    <tr>\n",
       "      <th>HARLEM-EAST</th>\n",
       "      <td>27853</td>\n",
       "    </tr>\n",
       "    <tr>\n",
       "      <th>GREENWICH VILLAGE-WEST</th>\n",
       "      <td>25575</td>\n",
       "    </tr>\n",
       "    <tr>\n",
       "      <th>GREENWICH VILLAGE-CENTRAL</th>\n",
       "      <td>25297</td>\n",
       "    </tr>\n",
       "    <tr>\n",
       "      <th>INWOOD</th>\n",
       "      <td>24875</td>\n",
       "    </tr>\n",
       "    <tr>\n",
       "      <th>ROOSEVELT ISLAND</th>\n",
       "      <td>23774</td>\n",
       "    </tr>\n",
       "    <tr>\n",
       "      <th>MANHATTAN VALLEY</th>\n",
       "      <td>23251</td>\n",
       "    </tr>\n",
       "    <tr>\n",
       "      <th>CHELSEA</th>\n",
       "      <td>19750</td>\n",
       "    </tr>\n",
       "    <tr>\n",
       "      <th>MIDTOWN EAST</th>\n",
       "      <td>18450</td>\n",
       "    </tr>\n",
       "    <tr>\n",
       "      <th>CLINTON</th>\n",
       "      <td>17573</td>\n",
       "    </tr>\n",
       "    <tr>\n",
       "      <th>MIDTOWN WEST</th>\n",
       "      <td>17555</td>\n",
       "    </tr>\n",
       "    <tr>\n",
       "      <th>UPPER EAST SIDE (96-110)</th>\n",
       "      <td>14886</td>\n",
       "    </tr>\n",
       "    <tr>\n",
       "      <th>FLATIRON</th>\n",
       "      <td>14825</td>\n",
       "    </tr>\n",
       "    <tr>\n",
       "      <th>HARLEM-UPPER</th>\n",
       "      <td>12488</td>\n",
       "    </tr>\n",
       "    <tr>\n",
       "      <th>MURRAY HILL</th>\n",
       "      <td>12343</td>\n",
       "    </tr>\n",
       "    <tr>\n",
       "      <th>GRAMERCY</th>\n",
       "      <td>11975</td>\n",
       "    </tr>\n",
       "    <tr>\n",
       "      <th>HARLEM-WEST</th>\n",
       "      <td>11643</td>\n",
       "    </tr>\n",
       "    <tr>\n",
       "      <th>EAST VILLAGE</th>\n",
       "      <td>8904</td>\n",
       "    </tr>\n",
       "    <tr>\n",
       "      <th>LOWER EAST SIDE</th>\n",
       "      <td>8000</td>\n",
       "    </tr>\n",
       "    <tr>\n",
       "      <th>CIVIC CENTER</th>\n",
       "      <td>6625</td>\n",
       "    </tr>\n",
       "    <tr>\n",
       "      <th>LITTLE ITALY</th>\n",
       "      <td>5677</td>\n",
       "    </tr>\n",
       "    <tr>\n",
       "      <th>CHINATOWN</th>\n",
       "      <td>5029</td>\n",
       "    </tr>\n",
       "    <tr>\n",
       "      <th>MORNINGSIDE HEIGHTS</th>\n",
       "      <td>4158</td>\n",
       "    </tr>\n",
       "  </tbody>\n",
       "</table>\n",
       "</div>"
      ],
      "text/plain": [
       "                           LAND SQUARE FEET\n",
       "NEIGHBORHOOD                               \n",
       "FASHION                              364000\n",
       "SOUTHBRIDGE                          357935\n",
       "HARLEM-CENTRAL                       189025\n",
       "KIPS BAY                             141836\n",
       "TRIBECA                               94530\n",
       "MIDTOWN CBD                           81336\n",
       "SOHO                                  69096\n",
       "FINANCIAL                             53632\n",
       "UPPER WEST SIDE (79-96)               40350\n",
       "JAVITS CENTER                         39779\n",
       "UPPER EAST SIDE (59-79)               35975\n",
       "UPPER WEST SIDE (59-79)               34300\n",
       "ALPHABET CITY                         33650\n",
       "UPPER EAST SIDE (79-96)               31058\n",
       "HARLEM-EAST                           27853\n",
       "GREENWICH VILLAGE-WEST                25575\n",
       "GREENWICH VILLAGE-CENTRAL             25297\n",
       "INWOOD                                24875\n",
       "ROOSEVELT ISLAND                      23774\n",
       "MANHATTAN VALLEY                      23251\n",
       "CHELSEA                               19750\n",
       "MIDTOWN EAST                          18450\n",
       "CLINTON                               17573\n",
       "MIDTOWN WEST                          17555\n",
       "UPPER EAST SIDE (96-110)              14886\n",
       "FLATIRON                              14825\n",
       "HARLEM-UPPER                          12488\n",
       "MURRAY HILL                           12343\n",
       "GRAMERCY                              11975\n",
       "HARLEM-WEST                           11643\n",
       "EAST VILLAGE                           8904\n",
       "LOWER EAST SIDE                        8000\n",
       "CIVIC CENTER                           6625\n",
       "LITTLE ITALY                           5677\n",
       "CHINATOWN                              5029\n",
       "MORNINGSIDE HEIGHTS                    4158"
      ]
     },
     "execution_count": 82,
     "metadata": {},
     "output_type": "execute_result"
    }
   ],
   "source": [
    "dataset[['NEIGHBORHOOD','LAND SQUARE FEET']].groupby('NEIGHBORHOOD').max()\\\n",
    "                        .sort_values(by='LAND SQUARE FEET',ascending=False)"
   ]
  },
  {
   "cell_type": "markdown",
   "metadata": {},
   "source": [
    "### Em geral, você pode ver alguma diferença entre o preço médio por metro quadrado dos apartamentos, considerando seu ano de construção? o que você pode dizer sobre a relação entre o ano de construção e o tamanho total médio dos mesmos em pés quadrados?"
   ]
  },
  {
   "cell_type": "code",
   "execution_count": null,
   "metadata": {},
   "outputs": [],
   "source": []
  },
  {
   "cell_type": "code",
   "execution_count": null,
   "metadata": {},
   "outputs": [],
   "source": []
  },
  {
   "cell_type": "markdown",
   "metadata": {},
   "source": [
    "### Gere um `DataFrame` que acrescente a informação por (`PRICE PER SQUARED FEET`), unidades resideinciais (`RESIDENTIAL UNITS`) e unidades comerciais (`COMMERCIAL UNITS`) por `BLOCK` e vizinhança (`NEIGHBORHOOD`). Forneça informações sobre a tendência central e a dispersão de ambas as distribuições."
   ]
  },
  {
   "cell_type": "code",
   "execution_count": null,
   "metadata": {},
   "outputs": [],
   "source": []
  }
 ],
 "metadata": {
  "kernelspec": {
   "display_name": "Python 3",
   "language": "python",
   "name": "python3"
  },
  "language_info": {
   "codemirror_mode": {
    "name": "ipython",
    "version": 3
   },
   "file_extension": ".py",
   "mimetype": "text/x-python",
   "name": "python",
   "nbconvert_exporter": "python",
   "pygments_lexer": "ipython3",
   "version": "3.9.4"
  }
 },
 "nbformat": 4,
 "nbformat_minor": 4
}
