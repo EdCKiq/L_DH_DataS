{
 "cells": [
  {
   "cell_type": "markdown",
   "id": "5904b0ed-f2ac-404b-84ea-1416b8309056",
   "metadata": {},
   "source": [
    "# Exercício (tempo previsto: <10 min)\n",
    "\n",
    "- A partir do arquivo 'exercicio01.html', construa um código que imprima os seguintes valores:\n",
    "  - Célula que está na 1a COLUNA da 2a LINHA da tabela com id 1\n",
    "  - Última célula da tabela da classe exemplo\n",
    "  - Título da 1a coluna \n"
   ]
  },
  {
   "cell_type": "code",
   "execution_count": 1,
   "id": "143f1b7f-ebcd-4b79-bf00-838064cf063c",
   "metadata": {},
   "outputs": [],
   "source": [
    "from bs4 import BeautifulSoup"
   ]
  },
  {
   "cell_type": "code",
   "execution_count": 2,
   "id": "543a5bfe-11a7-42a8-a9f0-71dcf6c881ad",
   "metadata": {},
   "outputs": [
    {
     "data": {
      "text/plain": [
       "<td>14</td>"
      ]
     },
     "execution_count": 2,
     "metadata": {},
     "output_type": "execute_result"
    }
   ],
   "source": [
    "html = open('exercicio01.html','r')\n",
    "soup = BeautifulSoup(html,'html.parser')\n",
    "tabela = soup.find_all('table', id='1')\n",
    "\n",
    "linhas = tabela[0].find_all('tr')\n",
    "valores = linhas[2].find_all('td')\n",
    "valores[0]"
   ]
  },
  {
   "cell_type": "markdown",
   "id": "51d14eaa-3231-45f6-b867-d1171d0acd8d",
   "metadata": {},
   "source": [
    "# Exercício\n",
    "Usando o selector gadget, imprima a lista da primeira página do site da Amazon com os livros de 'data science'"
   ]
  },
  {
   "cell_type": "code",
   "execution_count": 113,
   "id": "89651018-c766-49e2-bd55-8f14f7f7e40a",
   "metadata": {},
   "outputs": [],
   "source": [
    "import requests\n",
    "import pandas as pd"
   ]
  },
  {
   "cell_type": "code",
   "execution_count": null,
   "id": "26f5d913-194c-4fa9-8800-3393bfdbfa6d",
   "metadata": {},
   "outputs": [],
   "source": [
    "response = requests.get('https://www.amazon.com.br/s?k=data+science')\n",
    "soup_2 = BeautifulSoup(response.content, 'html.parser')\n",
    "nome = soup_2.select('.a-size-base-plus')\n",
    "for n in nome:\n",
    "     print(f'{n.text}\\n')"
   ]
  },
  {
   "cell_type": "markdown",
   "id": "96a52bdf-f06c-4a33-9dc8-21df308cddee",
   "metadata": {},
   "source": [
    "# Selenium\n",
    "\n",
    "Refência: https://selenium-python.readthedocs.io/"
   ]
  },
  {
   "cell_type": "markdown",
   "id": "33d86417-0f81-48ca-9292-dd6180849885",
   "metadata": {},
   "source": [
    "## Exercício (tempo previsto: <10 min)\n",
    "- Abra a página do Whiskas de 2 Kg"
   ]
  },
  {
   "cell_type": "code",
   "execution_count": 92,
   "id": "8a667553-003c-45fd-bcd6-9f1868b8680e",
   "metadata": {},
   "outputs": [],
   "source": [
    "from selenium.webdriver.common.keys import Keys\n",
    "from selenium import webdriver\n",
    "\n",
    "driver = webdriver.Chrome(executable_path='/home/kiqec/Projetos/chromedriver')"
   ]
  },
  {
   "cell_type": "code",
   "execution_count": 5,
   "id": "2dd29f74-c4dc-4eca-aef3-92fe3cd8ef0f",
   "metadata": {},
   "outputs": [],
   "source": [
    "driver.get('https://groceries.asda.com/cat/home-entertainment/_/102592')"
   ]
  },
  {
   "cell_type": "code",
   "execution_count": 13,
   "id": "a4a3d4d3-e161-453e-b29b-2ab9a5abf117",
   "metadata": {},
   "outputs": [],
   "source": [
    "searchtext = 'Whiskas 2kg'\n",
    "\n",
    "search = driver.find_element_by_id('search')\n",
    "\n",
    "search.clear()\n",
    "search.send_keys(searchtext)\n",
    "search.send_keys(Keys.RETURN)"
   ]
  },
  {
   "cell_type": "code",
   "execution_count": 14,
   "id": "109f93ea-326c-4c30-9764-aa43e2d6fd9f",
   "metadata": {},
   "outputs": [],
   "source": [
    "imagem = driver.find_element_by_xpath('/html/body/div[1]/div[2]/section/main/div[1]/div[4]/div/div[2]/ul/li[1]/div/div[2]/div[1]/h3/a')\n",
    "imagem.click()"
   ]
  },
  {
   "cell_type": "markdown",
   "id": "703ef93f-944b-4e0b-bfad-2ae8c87f4d95",
   "metadata": {},
   "source": [
    "## Exercício (tempo previsto: 30-60 min)\n",
    "\n",
    "- Imprima uma lista de veículos com suas informações a partir do site da FIPE"
   ]
  },
  {
   "cell_type": "markdown",
   "id": "5dd9fcd1-f4f2-4e81-ab2a-7836ee854cf0",
   "metadata": {},
   "source": [
    " Busca por preço de veículo aleatoriamente "
   ]
  },
  {
   "cell_type": "code",
   "execution_count": 165,
   "id": "7d1bb2f4-6d09-4e2b-89d3-e3a697d4837a",
   "metadata": {},
   "outputs": [],
   "source": [
    "driver.get(\"https://veiculos.fipe.org.br/\")"
   ]
  },
  {
   "cell_type": "code",
   "execution_count": 166,
   "id": "01d006fd-366e-4b51-8304-a7fc3c67b0a1",
   "metadata": {},
   "outputs": [],
   "source": [
    "item = driver.find_element_by_xpath(\"/html/body/div[1]/section[2]/div[1]/div[2]/ul/li[1]/a/div[2]\")\n",
    "item.click()"
   ]
  },
  {
   "cell_type": "code",
   "execution_count": 167,
   "id": "1595de08-e48e-41b9-9804-340fdc097d70",
   "metadata": {},
   "outputs": [],
   "source": [
    "for i in range(1,3):\n",
    "    item = driver.find_element_by_xpath(f\"/html/body/div[1]/section[2]/div[1]/div[2]/ul/li[1]/div/article[1]/div[2]/div[{i}]/div[{i}]/select\")\n",
    "    if i == 2: \n",
    "        item_2 = driver.find_element_by_xpath(f\"/html/body/div[1]/section[2]/div[1]/div[2]/ul/li[1]/div/article[1]/div[2]/div[2]/div[1]/select\")\n",
    "        item_2.click()\n",
    "        item_2.send_keys(Keys.DOWN,Keys.RETURN)\n",
    "    item.click()\n",
    "    item.send_keys(Keys.DOWN, Keys.RETURN)\n"
   ]
  },
  {
   "cell_type": "code",
   "execution_count": 168,
   "id": "66bcb5ac-bfa5-466e-9daf-3033612fea08",
   "metadata": {},
   "outputs": [],
   "source": [
    "busca = driver.find_element_by_xpath(\"/html/body/div[1]/section[2]/div[1]/div[2]/ul/li[1]/div/article[1]/div[2]/div[3]/a\")\n",
    "busca.click()"
   ]
  },
  {
   "cell_type": "code",
   "execution_count": 169,
   "id": "61bee355-63f8-4ae4-bf3a-15bfe1e5a600",
   "metadata": {},
   "outputs": [],
   "source": [
    "preco = driver.find_element_by_xpath('/html/body/div[1]/section[2]/div[1]/div[2]/ul/li[1]/div/article[1]/div[2]/div[4]/table/tbody/tr[8]/td[2]/p')"
   ]
  },
  {
   "cell_type": "code",
   "execution_count": 170,
   "id": "c4af4026-a7ec-4208-8411-9ab7dedc59b5",
   "metadata": {},
   "outputs": [
    {
     "data": {
      "text/plain": [
       "'R$ 11.165,00'"
      ]
     },
     "execution_count": 170,
     "metadata": {},
     "output_type": "execute_result"
    }
   ],
   "source": [
    "preco.text"
   ]
  },
  {
   "cell_type": "markdown",
   "id": "4c32e814-6683-434e-88bd-d31e7405e07a",
   "metadata": {},
   "source": [
    "Lista de veiculos"
   ]
  },
  {
   "cell_type": "code",
   "execution_count": 184,
   "id": "3544995c-3bc6-4dd7-9ff9-9954e8916639",
   "metadata": {},
   "outputs": [],
   "source": [
    "driver.get(\"https://veiculos.fipe.org.br/\")"
   ]
  },
  {
   "cell_type": "code",
   "execution_count": 185,
   "id": "716e6932-0d4c-4dc9-bcd9-926d583e1536",
   "metadata": {},
   "outputs": [],
   "source": [
    "item = driver.find_element_by_xpath(\"/html/body/div[1]/section[2]/div[1]/div[2]/ul/li[1]/a/div[2]\")\n",
    "item.click()"
   ]
  },
  {
   "cell_type": "code",
   "execution_count": 186,
   "id": "f3d23244-dcb2-4da7-acca-560c7220f7a9",
   "metadata": {},
   "outputs": [],
   "source": [
    "for i in range(1,3):\n",
    "    item = driver.find_element_by_xpath(f\"/html/body/div[1]/section[2]/div[1]/div[2]/ul/li[1]/div/article[1]/div[2]/div[{i}]/div[{i}]/select\")\n",
    "    if i == 2: \n",
    "        item_2 = driver.find_element_by_xpath(f\"/html/body/div[1]/section[2]/div[1]/div[2]/ul/li[1]/div/article[1]/div[2]/div[2]/div[1]/select\")\n",
    "        item_2.click()\n",
    "        item_2.send_keys(Keys.DOWN,Keys.RETURN)\n",
    "    item.click()\n",
    "    item.send_keys(Keys.DOWN, Keys.RETURN)\n",
    "    "
   ]
  },
  {
   "cell_type": "code",
   "execution_count": 187,
   "id": "793d3d35-5d99-462e-8be4-57dd72bf9458",
   "metadata": {},
   "outputs": [],
   "source": [
    "busca = driver.find_element_by_xpath(\"/html/body/div[1]/section[2]/div[1]/div[2]/ul/li[1]/div/article[1]/div[2]/div[3]/a\")\n",
    "busca.click()"
   ]
  },
  {
   "cell_type": "code",
   "execution_count": 188,
   "id": "5874c0dd-79f2-4932-9492-2934fc4de03e",
   "metadata": {},
   "outputs": [],
   "source": [
    "tabela =driver.find_element_by_xpath('/html/body/div[1]/section[2]/div[1]/div[2]/ul/li[1]/div/article[1]/div[2]/div[4]').text"
   ]
  },
  {
   "cell_type": "code",
   "execution_count": 193,
   "id": "cafe23d3-5c74-4d44-8b4d-6896b80ca958",
   "metadata": {},
   "outputs": [
    {
     "ename": "AttributeError",
     "evalue": "'DataFrame' object has no attribute 'split'",
     "output_type": "error",
     "traceback": [
      "\u001b[0;31m---------------------------------------------------------------------------\u001b[0m",
      "\u001b[0;31mAttributeError\u001b[0m                            Traceback (most recent call last)",
      "\u001b[0;32m<ipython-input-193-ac0badeab576>\u001b[0m in \u001b[0;36m<module>\u001b[0;34m\u001b[0m\n\u001b[0;32m----> 1\u001b[0;31m \u001b[0mtabela_series\u001b[0m \u001b[0;34m=\u001b[0m \u001b[0mtabela\u001b[0m\u001b[0;34m.\u001b[0m\u001b[0msplit\u001b[0m\u001b[0;34m(\u001b[0m\u001b[0;34m'\\n'\u001b[0m\u001b[0;34m)\u001b[0m\u001b[0;34m\u001b[0m\u001b[0;34m\u001b[0m\u001b[0m\n\u001b[0m",
      "\u001b[0;32m~/anaconda3/envs/dh/lib/python3.9/site-packages/pandas/core/generic.py\u001b[0m in \u001b[0;36m__getattr__\u001b[0;34m(self, name)\u001b[0m\n\u001b[1;32m   5463\u001b[0m             \u001b[0;32mif\u001b[0m \u001b[0mself\u001b[0m\u001b[0;34m.\u001b[0m\u001b[0m_info_axis\u001b[0m\u001b[0;34m.\u001b[0m\u001b[0m_can_hold_identifiers_and_holds_name\u001b[0m\u001b[0;34m(\u001b[0m\u001b[0mname\u001b[0m\u001b[0;34m)\u001b[0m\u001b[0;34m:\u001b[0m\u001b[0;34m\u001b[0m\u001b[0;34m\u001b[0m\u001b[0m\n\u001b[1;32m   5464\u001b[0m                 \u001b[0;32mreturn\u001b[0m \u001b[0mself\u001b[0m\u001b[0;34m[\u001b[0m\u001b[0mname\u001b[0m\u001b[0;34m]\u001b[0m\u001b[0;34m\u001b[0m\u001b[0;34m\u001b[0m\u001b[0m\n\u001b[0;32m-> 5465\u001b[0;31m             \u001b[0;32mreturn\u001b[0m \u001b[0mobject\u001b[0m\u001b[0;34m.\u001b[0m\u001b[0m__getattribute__\u001b[0m\u001b[0;34m(\u001b[0m\u001b[0mself\u001b[0m\u001b[0;34m,\u001b[0m \u001b[0mname\u001b[0m\u001b[0;34m)\u001b[0m\u001b[0;34m\u001b[0m\u001b[0;34m\u001b[0m\u001b[0m\n\u001b[0m\u001b[1;32m   5466\u001b[0m \u001b[0;34m\u001b[0m\u001b[0m\n\u001b[1;32m   5467\u001b[0m     \u001b[0;32mdef\u001b[0m \u001b[0m__setattr__\u001b[0m\u001b[0;34m(\u001b[0m\u001b[0mself\u001b[0m\u001b[0;34m,\u001b[0m \u001b[0mname\u001b[0m\u001b[0;34m:\u001b[0m \u001b[0mstr\u001b[0m\u001b[0;34m,\u001b[0m \u001b[0mvalue\u001b[0m\u001b[0;34m)\u001b[0m \u001b[0;34m->\u001b[0m \u001b[0;32mNone\u001b[0m\u001b[0;34m:\u001b[0m\u001b[0;34m\u001b[0m\u001b[0;34m\u001b[0m\u001b[0m\n",
      "\u001b[0;31mAttributeError\u001b[0m: 'DataFrame' object has no attribute 'split'"
     ]
    }
   ],
   "source": [
    "tabela_series = tabela.split('\\n')"
   ]
  },
  {
   "cell_type": "code",
   "execution_count": 190,
   "id": "86bc10ef-0537-4271-9b10-2dc1c901fe86",
   "metadata": {},
   "outputs": [],
   "source": [
    "tabela_dt = pd.DataFrame()"
   ]
  },
  {
   "cell_type": "code",
   "execution_count": 192,
   "id": "cb2851a0-8841-468e-a63e-152d3beb0199",
   "metadata": {},
   "outputs": [
    {
     "ename": "NameError",
     "evalue": "name 'tebela_series' is not defined",
     "output_type": "error",
     "traceback": [
      "\u001b[0;31m---------------------------------------------------------------------------\u001b[0m",
      "\u001b[0;31mNameError\u001b[0m                                 Traceback (most recent call last)",
      "\u001b[0;32m<ipython-input-192-77e69d171953>\u001b[0m in \u001b[0;36m<module>\u001b[0;34m\u001b[0m\n\u001b[0;32m----> 1\u001b[0;31m \u001b[0mtabela\u001b[0m\u001b[0;34m.\u001b[0m\u001b[0minsert\u001b[0m\u001b[0;34m(\u001b[0m\u001b[0mtebela_series\u001b[0m\u001b[0;34m)\u001b[0m\u001b[0;34m\u001b[0m\u001b[0;34m\u001b[0m\u001b[0m\n\u001b[0m",
      "\u001b[0;31mNameError\u001b[0m: name 'tebela_series' is not defined"
     ]
    }
   ],
   "source": [
    "tabela_dt.insert(tebela_series)"
   ]
  },
  {
   "cell_type": "code",
   "execution_count": null,
   "id": "1c2f9284-726f-4096-a87d-54ba2447b38b",
   "metadata": {},
   "outputs": [],
   "source": []
  }
 ],
 "metadata": {
  "kernelspec": {
   "display_name": "Python 3",
   "language": "python",
   "name": "python3"
  },
  "language_info": {
   "codemirror_mode": {
    "name": "ipython",
    "version": 3
   },
   "file_extension": ".py",
   "mimetype": "text/x-python",
   "name": "python",
   "nbconvert_exporter": "python",
   "pygments_lexer": "ipython3",
   "version": "3.9.5"
  }
 },
 "nbformat": 4,
 "nbformat_minor": 5
}
