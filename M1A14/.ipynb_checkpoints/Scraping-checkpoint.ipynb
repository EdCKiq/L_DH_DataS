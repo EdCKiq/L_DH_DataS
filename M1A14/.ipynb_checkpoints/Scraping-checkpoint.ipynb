{
 "cells": [
  {
   "cell_type": "markdown",
   "id": "5904b0ed-f2ac-404b-84ea-1416b8309056",
   "metadata": {},
   "source": [
    "# Exercício (tempo previsto: <10 min)\n",
    "\n",
    "- A partir do arquivo 'exercicio01.html', construa um código que imprima os seguintes valores:\n",
    "  - Célula que está na 1a COLUNA da 2a LINHA da tabela com id 1\n",
    "  - Última célula da tabela da classe exemplo\n",
    "  - Título da 1a coluna \n"
   ]
  },
  {
   "cell_type": "code",
   "execution_count": 5,
   "id": "143f1b7f-ebcd-4b79-bf00-838064cf063c",
   "metadata": {},
   "outputs": [],
   "source": [
    "from bs4 import BeautifulSoup"
   ]
  },
  {
   "cell_type": "code",
   "execution_count": 44,
   "id": "543a5bfe-11a7-42a8-a9f0-71dcf6c881ad",
   "metadata": {},
   "outputs": [
    {
     "data": {
      "text/plain": [
       "<td>14</td>"
      ]
     },
     "execution_count": 44,
     "metadata": {},
     "output_type": "execute_result"
    }
   ],
   "source": [
    "html = open('exercicio01.html','r')\n",
    "soup = BeautifulSoup(html,'html.parser')\n",
    "tabela = soup.find_all('table', id='1')\n",
    "\n",
    "linhas = tabela[0].find_all('tr')\n",
    "valores = linhas[2].find_all('td')\n",
    "valores[0]"
   ]
  },
  {
   "cell_type": "markdown",
   "id": "96a52bdf-f06c-4a33-9dc8-21df308cddee",
   "metadata": {},
   "source": [
    "# Selenium\n",
    "\n",
    "Refência: https://selenium-python.readthedocs.io/"
   ]
  },
  {
   "cell_type": "markdown",
   "id": "f6f4acac-3c0b-41cf-8b71-54771d625aad",
   "metadata": {},
   "source": [
    "## Código do professor para base do exercicio"
   ]
  },
  {
   "cell_type": "code",
   "execution_count": null,
   "id": "2772ab37-7ba0-403b-9148-4687b7a7fba8",
   "metadata": {},
   "outputs": [],
   "source": [
    "from selenium import webdriver"
   ]
  },
  {
   "cell_type": "code",
   "execution_count": null,
   "id": "f7773447-bec4-4bf7-b88b-bfdf31bda57d",
   "metadata": {},
   "outputs": [],
   "source": [
    "driver = webdriver.Chrome(executable_path='./chr_drv/chromedriver.exe')"
   ]
  },
  {
   "cell_type": "code",
   "execution_count": null,
   "id": "46d83201-0a45-4677-85f2-774e64f82004",
   "metadata": {},
   "outputs": [],
   "source": [
    "from requests import get\n",
    "#url que iremos analisar\n",
    "url = 'https://groceries.asda.com/cat/home-entertainment/_/102592'\n",
    "response = get(url)"
   ]
  },
  {
   "cell_type": "code",
   "execution_count": null,
   "id": "801a5b1a-44ca-4b73-95ef-71aa12ed95e7",
   "metadata": {},
   "outputs": [],
   "source": [
    "print(response.content)"
   ]
  },
  {
   "cell_type": "code",
   "execution_count": null,
   "id": "85892cae-a757-4ec4-b875-864fd1ad88d9",
   "metadata": {},
   "outputs": [],
   "source": [
    "# chamada da página, deve abrir também a página on browser controlado pelo Selenium\n",
    "driver.get('https://groceries.asda.com/cat/home-entertainment/_/102592')"
   ]
  },
  {
   "cell_type": "code",
   "execution_count": null,
   "id": "4d776e23-ce8a-4bec-9718-aff493e17006",
   "metadata": {},
   "outputs": [],
   "source": [
    "# utiliza o método que retorna uma lista com diversos elementos, através do nome da classe\n",
    "produtosClass = driver.find_elements_by_class_name('co-product__price')\n",
    "type(produtosClass)"
   ]
  },
  {
   "cell_type": "code",
   "execution_count": null,
   "id": "2691130b-eab9-43bd-a868-a6bcba73fdba",
   "metadata": {},
   "outputs": [],
   "source": [
    "print(len(produtosClass))\n",
    "# imprime os elementos da lista\n",
    "for i in range(len(produtosClass)):\n",
    "    print(produtosClass[i].text)"
   ]
  },
  {
   "cell_type": "code",
   "execution_count": null,
   "id": "7a6e81d9-0c35-4124-9420-b9a52f827d82",
   "metadata": {},
   "outputs": [],
   "source": [
    "/html/body/div[1]/div[2]/section/main/div[3]/ul/li[2]/div/div[3]/div[1]/div/strong\n",
    "/html/body/div[1]/div[2]/section/main/div[3]/ul/li[3]/div/div[3]/div[1]/div/strong"
   ]
  },
  {
   "cell_type": "code",
   "execution_count": null,
   "id": "43eb1b49-f6c6-4d92-9c10-77e7a02050b5",
   "metadata": {},
   "outputs": [],
   "source": [
    "produtosXpath = driver.find_elements_by_xpath('/html/body/div[1]/div[2]/section/main/div[3]/ul/li[*]/div/div[3]/div[1]/div/strong')\n",
    "print(len(produtosXpath), type(produtosXpath))\n",
    "produtosXpath[0].text"
   ]
  },
  {
   "cell_type": "code",
   "execution_count": null,
   "id": "4bd13051-8172-4d78-a308-b3c46f093b40",
   "metadata": {},
   "outputs": [],
   "source": [
    "#//*[@id=\"main-content\"]/main/div[6]/div[1]/ul/li[3]/div/div[2]/div[1]/h3/a\n",
    "produtosXpath = driver.find_elements_by_xpath('/html/body/div[1]/div[2]/section/main/div[3]/ul/li[*]/div/div[3]/div[1]/div/strong')\n",
    "print(len(produtosXpath))\n",
    "for i in range(len(produtosXpath)):\n",
    "    print(produtosXpath[i].text)"
   ]
  },
  {
   "cell_type": "code",
   "execution_count": null,
   "id": "2ef06ed6-b797-497d-b63f-0bd8bf707785",
   "metadata": {},
   "outputs": [],
   "source": [
    "#//*[@id=\"main-content\"]/main/div[6]/div[1]/ul/li[3]/div/div[2]/div[1]/h3/a\n",
    "#//*[@id=\"main-content\"]/main/div[6]/div[1]/ul/li[2]/div/div[2]/div[1]/h3/a\n",
    "\n",
    "produtosXpath = driver.find_elements_by_xpath('//*[@id=\"main-content\"]/main/div[6]/div[1]/ul/li[*]/div/div[2]/div[1]/h3/a')\n",
    "print(len(produtosXpath))\n",
    "for i in range(len(produtosXpath)):\n",
    "    print(produtosXpath[i].text)"
   ]
  },
  {
   "cell_type": "markdown",
   "id": "a4c9940c-e398-4c99-af94-f5d368af3992",
   "metadata": {},
   "source": [
    "## Exercício (tempo previsto: <15 min)\n",
    "- Imprima os preços dos produtos da 1a página"
   ]
  },
  {
   "cell_type": "code",
   "execution_count": null,
   "id": "2ecd2ff5-53c9-4bdd-935c-8d227fc420e4",
   "metadata": {},
   "outputs": [],
   "source": []
  }
 ],
 "metadata": {
  "kernelspec": {
   "display_name": "Python 3",
   "language": "python",
   "name": "python3"
  },
  "language_info": {
   "codemirror_mode": {
    "name": "ipython",
    "version": 3
   },
   "file_extension": ".py",
   "mimetype": "text/x-python",
   "name": "python",
   "nbconvert_exporter": "python",
   "pygments_lexer": "ipython3",
   "version": "3.9.5"
  }
 },
 "nbformat": 4,
 "nbformat_minor": 5
}
