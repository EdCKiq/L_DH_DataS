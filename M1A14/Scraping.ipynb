{
 "cells": [
  {
   "cell_type": "markdown",
   "id": "5904b0ed-f2ac-404b-84ea-1416b8309056",
   "metadata": {},
   "source": [
    "# Exercício (tempo previsto: <10 min)\n",
    "\n",
    "- A partir do arquivo 'exercicio01.html', construa um código que imprima os seguintes valores:\n",
    "  - Célula que está na 1a COLUNA da 2a LINHA da tabela com id 1\n",
    "  - Última célula da tabela da classe exemplo\n",
    "  - Título da 1a coluna \n"
   ]
  },
  {
   "cell_type": "code",
   "execution_count": 1,
   "id": "143f1b7f-ebcd-4b79-bf00-838064cf063c",
   "metadata": {},
   "outputs": [],
   "source": [
    "from bs4 import BeautifulSoup"
   ]
  },
  {
   "cell_type": "code",
   "execution_count": 2,
   "id": "543a5bfe-11a7-42a8-a9f0-71dcf6c881ad",
   "metadata": {},
   "outputs": [
    {
     "data": {
      "text/plain": [
       "<td>14</td>"
      ]
     },
     "execution_count": 2,
     "metadata": {},
     "output_type": "execute_result"
    }
   ],
   "source": [
    "html = open('exercicio01.html','r')\n",
    "soup = BeautifulSoup(html,'html.parser')\n",
    "tabela = soup.find_all('table', id='1')\n",
    "\n",
    "linhas = tabela[0].find_all('tr')\n",
    "valores = linhas[2].find_all('td')\n",
    "valores[0]"
   ]
  },
  {
   "cell_type": "markdown",
   "id": "51d14eaa-3231-45f6-b867-d1171d0acd8d",
   "metadata": {},
   "source": [
    "# Exercício\n",
    "Usando o selector gadget, imprima a lista da primeira página do site da Amazon com os livros de 'data science'"
   ]
  },
  {
   "cell_type": "code",
   "execution_count": 6,
   "id": "89651018-c766-49e2-bd55-8f14f7f7e40a",
   "metadata": {},
   "outputs": [],
   "source": [
    "import requests"
   ]
  },
  {
   "cell_type": "code",
   "execution_count": 43,
   "id": "26f5d913-194c-4fa9-8800-3393bfdbfa6d",
   "metadata": {},
   "outputs": [
    {
     "name": "stdout",
     "output_type": "stream",
     "text": [
      "Data science para negócios: O que você precisa saber sobre mineração de dados e pensamento analítico de dados\n",
      "\n",
      "Data Science Do Zero: Noções Fundamentais com Python\n",
      "\n",
      "Data science do zero: primeiras regras com o Python\n",
      "\n",
      "Data Science\n",
      "\n",
      "Data science para leigos\n",
      "\n",
      "Data Science na Educação: Presencial, a Distância e Corporativa\n",
      "\n",
      "R Para Data Science\n",
      "\n",
      "Python para data science para leigos: os primeiros passos para o sucesso\n",
      "\n",
      "Data Science from Scratch: First Principles with Python\n",
      "\n",
      "Data smart: usando Data Science para transformar informação em insight\n",
      "\n",
      "Introdução a Data Science: Algoritmos de Machine Learning e métodos de análise\n",
      "\n",
      "Caneca Data Science\n",
      "\n",
      "Storytelling com dados: Um guia sobre visualização de dados para profissionais de negócios\n",
      "\n",
      "Python Para Análise de Dados: Tratamento de Dados com Pandas, NumPy e IPython\n",
      "\n",
      "Estatística: O que é, para que serve, como funciona\n",
      "\n",
      "Estatística prática para cientistas de dados: 50 conceitos essenciais\n",
      "\n",
      "Deep Learning for Sustainable Agriculture\n",
      "\n",
      "Python para Data Science para leigos\n",
      "\n",
      "Python Programming: The Complete Crash Course for Beginners to Mastering Python with Practical Applications to Data Analysis & Analytics, Machine Learning ... Projects - 6 Books in 1 (English Edition)\n",
      "\n",
      "Data Science: A Comprehensive Guide to Data Science, Data Analytics, Data Mining, Artificial Intelligence, Machine Learning, and Big Data (English Edition)\n",
      "\n",
      "Cognitive Systems and Signal Processing in Image Processing\n",
      "\n",
      "Análise estatística com R para leigos\n",
      "\n",
      "Pense em Python: Pense Como um Cientista da Computação\n",
      "\n",
      "Projetos de Ciência de Dados com Python: Abordagem de Estudo de Caso Para a Criação de Projetos de Ciência de Dados Bem-sucedidos Usando Python, Pandas e Scikit-learn\n",
      "\n",
      "Small data: Como Poucas Pistas Indicam Grandes Tendências\n",
      "\n",
      "Precalculus Graphing and Data Analysis\n",
      "\n",
      "Machine Learning for Biometrics: Concepts, Algorithms and Applications\n",
      "\n",
      "Advances in Artificial Intelligence, Computation, and Data Science: For Medicine and Life Science (Computational Biology) (English Edition)\n",
      "\n",
      "Hands-On Machine Learning with Scikit-Learn, Keras, and Tensorflow: Concepts, Tools, and Techniques to Build Intelligent Systems\n",
      "\n",
      "DATA SCIENCE: A Comprehensive Beginner’s Guide to Learn About the Realms of Data Science from A-Z (English Edition)\n",
      "\n",
      "Manual Prático de Data Science\n",
      "\n",
      "POWER BI PARA DATA SCIENCE : Domine o Big Data para turbinar a inteligência do seu negocio\n",
      "\n",
      "Algorithms and Data Structures: 17th International Symposium, Wads 2021, Virtual Event, August 9-11, 2021, Proceedings\n",
      "\n",
      "Como mentir com estatística\n",
      "\n",
      "Mãos à Obra: Aprendizado de Máquina com Scikit-Learn & TensorFlow\n",
      "\n",
      "Data Science, GDPR e LGPD: 20 coisas que você precisa fazer para não ser acusado por maus tratos a dados pessoais: 1\n",
      "\n",
      "Storytelling with Data: A Data Visualization Guide for Business Professionals\n",
      "\n",
      "Solving Data Science Case Studies with Python: Improve Your Problem Solving Skills in Data Science by Solving Case Studies (English Edition)\n",
      "\n",
      "Proceedings of International Conference on Data Science and Applications: Icdsa 2021, Volume 1: 288\n",
      "\n",
      "A Hands-On Introduction to Data Science\n",
      "\n",
      "Introdução à Mineração de Dados - Com Aplicações em R: com Aplicações em RL\n",
      "\n",
      "Caneca Dev Data Science - B-black\n",
      "\n",
      "Planetarium [Disco de Vinil]\n",
      "\n",
      "Financial Theory with Python: A Gentle Introduction\n",
      "\n",
      "Data Science Para Programadores. Um Guia Completo Utilizando a Linguagem Python\n",
      "\n",
      "Approaches to Science Data Processing for Constellations and Swarms of Cubesats (English Edition)\n",
      "\n",
      "Machine Learning Design Patterns: Solutions to Common Challenges in Data Preparation, Model Building, and Mlops\n",
      "\n",
      "Python Para Data Science: e Machine Learning Descomplicado\n",
      "\n"
     ]
    }
   ],
   "source": [
    "response = requests.get('https://www.amazon.com.br/s?k=data+science')\n",
    "soup_2 = BeautifulSoup(response.content, 'html.parser')\n",
    "nome = soup_2.select('.a-size-base-plus')\n",
    "for n in nome:\n",
    "     print(f'{n.text}\\n')"
   ]
  },
  {
   "cell_type": "markdown",
   "id": "96a52bdf-f06c-4a33-9dc8-21df308cddee",
   "metadata": {},
   "source": [
    "# Selenium\n",
    "\n",
    "Refência: https://selenium-python.readthedocs.io/"
   ]
  },
  {
   "cell_type": "markdown",
   "id": "f6f4acac-3c0b-41cf-8b71-54771d625aad",
   "metadata": {},
   "source": [
    "## Código do professor para base do exercicio"
   ]
  },
  {
   "cell_type": "code",
   "execution_count": 3,
   "id": "2772ab37-7ba0-403b-9148-4687b7a7fba8",
   "metadata": {},
   "outputs": [],
   "source": [
    "from selenium import webdriver"
   ]
  },
  {
   "cell_type": "code",
   "execution_count": 4,
   "id": "f7773447-bec4-4bf7-b88b-bfdf31bda57d",
   "metadata": {},
   "outputs": [
    {
     "ename": "WebDriverException",
     "evalue": "Message: 'chromedriver.exe' executable needs to be in PATH. Please see https://sites.google.com/a/chromium.org/chromedriver/home\n",
     "output_type": "error",
     "traceback": [
      "\u001b[0;31m---------------------------------------------------------------------------\u001b[0m",
      "\u001b[0;31mFileNotFoundError\u001b[0m                         Traceback (most recent call last)",
      "\u001b[0;32m~/anaconda3/envs/dh/lib/python3.9/site-packages/selenium/webdriver/common/service.py\u001b[0m in \u001b[0;36mstart\u001b[0;34m(self)\u001b[0m\n\u001b[1;32m     71\u001b[0m             \u001b[0mcmd\u001b[0m\u001b[0;34m.\u001b[0m\u001b[0mextend\u001b[0m\u001b[0;34m(\u001b[0m\u001b[0mself\u001b[0m\u001b[0;34m.\u001b[0m\u001b[0mcommand_line_args\u001b[0m\u001b[0;34m(\u001b[0m\u001b[0;34m)\u001b[0m\u001b[0;34m)\u001b[0m\u001b[0;34m\u001b[0m\u001b[0;34m\u001b[0m\u001b[0m\n\u001b[0;32m---> 72\u001b[0;31m             self.process = subprocess.Popen(cmd, env=self.env,\n\u001b[0m\u001b[1;32m     73\u001b[0m                                             \u001b[0mclose_fds\u001b[0m\u001b[0;34m=\u001b[0m\u001b[0mplatform\u001b[0m\u001b[0;34m.\u001b[0m\u001b[0msystem\u001b[0m\u001b[0;34m(\u001b[0m\u001b[0;34m)\u001b[0m \u001b[0;34m!=\u001b[0m \u001b[0;34m'Windows'\u001b[0m\u001b[0;34m,\u001b[0m\u001b[0;34m\u001b[0m\u001b[0;34m\u001b[0m\u001b[0m\n",
      "\u001b[0;32m~/anaconda3/envs/dh/lib/python3.9/subprocess.py\u001b[0m in \u001b[0;36m__init__\u001b[0;34m(self, args, bufsize, executable, stdin, stdout, stderr, preexec_fn, close_fds, shell, cwd, env, universal_newlines, startupinfo, creationflags, restore_signals, start_new_session, pass_fds, user, group, extra_groups, encoding, errors, text, umask)\u001b[0m\n\u001b[1;32m    950\u001b[0m \u001b[0;34m\u001b[0m\u001b[0m\n\u001b[0;32m--> 951\u001b[0;31m             self._execute_child(args, executable, preexec_fn, close_fds,\n\u001b[0m\u001b[1;32m    952\u001b[0m                                 \u001b[0mpass_fds\u001b[0m\u001b[0;34m,\u001b[0m \u001b[0mcwd\u001b[0m\u001b[0;34m,\u001b[0m \u001b[0menv\u001b[0m\u001b[0;34m,\u001b[0m\u001b[0;34m\u001b[0m\u001b[0;34m\u001b[0m\u001b[0m\n",
      "\u001b[0;32m~/anaconda3/envs/dh/lib/python3.9/subprocess.py\u001b[0m in \u001b[0;36m_execute_child\u001b[0;34m(self, args, executable, preexec_fn, close_fds, pass_fds, cwd, env, startupinfo, creationflags, shell, p2cread, p2cwrite, c2pread, c2pwrite, errread, errwrite, restore_signals, gid, gids, uid, umask, start_new_session)\u001b[0m\n\u001b[1;32m   1820\u001b[0m                         \u001b[0merr_msg\u001b[0m \u001b[0;34m=\u001b[0m \u001b[0mos\u001b[0m\u001b[0;34m.\u001b[0m\u001b[0mstrerror\u001b[0m\u001b[0;34m(\u001b[0m\u001b[0merrno_num\u001b[0m\u001b[0;34m)\u001b[0m\u001b[0;34m\u001b[0m\u001b[0;34m\u001b[0m\u001b[0m\n\u001b[0;32m-> 1821\u001b[0;31m                     \u001b[0;32mraise\u001b[0m \u001b[0mchild_exception_type\u001b[0m\u001b[0;34m(\u001b[0m\u001b[0merrno_num\u001b[0m\u001b[0;34m,\u001b[0m \u001b[0merr_msg\u001b[0m\u001b[0;34m,\u001b[0m \u001b[0merr_filename\u001b[0m\u001b[0;34m)\u001b[0m\u001b[0;34m\u001b[0m\u001b[0;34m\u001b[0m\u001b[0m\n\u001b[0m\u001b[1;32m   1822\u001b[0m                 \u001b[0;32mraise\u001b[0m \u001b[0mchild_exception_type\u001b[0m\u001b[0;34m(\u001b[0m\u001b[0merr_msg\u001b[0m\u001b[0;34m)\u001b[0m\u001b[0;34m\u001b[0m\u001b[0;34m\u001b[0m\u001b[0m\n",
      "\u001b[0;31mFileNotFoundError\u001b[0m: [Errno 2] No such file or directory: './chr_drv/chromedriver.exe'",
      "\nDuring handling of the above exception, another exception occurred:\n",
      "\u001b[0;31mWebDriverException\u001b[0m                        Traceback (most recent call last)",
      "\u001b[0;32m<ipython-input-4-7e3ea5545f69>\u001b[0m in \u001b[0;36m<module>\u001b[0;34m\u001b[0m\n\u001b[0;32m----> 1\u001b[0;31m \u001b[0mdriver\u001b[0m \u001b[0;34m=\u001b[0m \u001b[0mwebdriver\u001b[0m\u001b[0;34m.\u001b[0m\u001b[0mChrome\u001b[0m\u001b[0;34m(\u001b[0m\u001b[0mexecutable_path\u001b[0m\u001b[0;34m=\u001b[0m\u001b[0;34m'./chr_drv/chromedriver.exe'\u001b[0m\u001b[0;34m)\u001b[0m\u001b[0;34m\u001b[0m\u001b[0;34m\u001b[0m\u001b[0m\n\u001b[0m",
      "\u001b[0;32m~/anaconda3/envs/dh/lib/python3.9/site-packages/selenium/webdriver/chrome/webdriver.py\u001b[0m in \u001b[0;36m__init__\u001b[0;34m(self, executable_path, port, options, service_args, desired_capabilities, service_log_path, chrome_options, keep_alive)\u001b[0m\n\u001b[1;32m     71\u001b[0m             \u001b[0mservice_args\u001b[0m\u001b[0;34m=\u001b[0m\u001b[0mservice_args\u001b[0m\u001b[0;34m,\u001b[0m\u001b[0;34m\u001b[0m\u001b[0;34m\u001b[0m\u001b[0m\n\u001b[1;32m     72\u001b[0m             log_path=service_log_path)\n\u001b[0;32m---> 73\u001b[0;31m         \u001b[0mself\u001b[0m\u001b[0;34m.\u001b[0m\u001b[0mservice\u001b[0m\u001b[0;34m.\u001b[0m\u001b[0mstart\u001b[0m\u001b[0;34m(\u001b[0m\u001b[0;34m)\u001b[0m\u001b[0;34m\u001b[0m\u001b[0;34m\u001b[0m\u001b[0m\n\u001b[0m\u001b[1;32m     74\u001b[0m \u001b[0;34m\u001b[0m\u001b[0m\n\u001b[1;32m     75\u001b[0m         \u001b[0;32mtry\u001b[0m\u001b[0;34m:\u001b[0m\u001b[0;34m\u001b[0m\u001b[0;34m\u001b[0m\u001b[0m\n",
      "\u001b[0;32m~/anaconda3/envs/dh/lib/python3.9/site-packages/selenium/webdriver/common/service.py\u001b[0m in \u001b[0;36mstart\u001b[0;34m(self)\u001b[0m\n\u001b[1;32m     79\u001b[0m         \u001b[0;32mexcept\u001b[0m \u001b[0mOSError\u001b[0m \u001b[0;32mas\u001b[0m \u001b[0merr\u001b[0m\u001b[0;34m:\u001b[0m\u001b[0;34m\u001b[0m\u001b[0;34m\u001b[0m\u001b[0m\n\u001b[1;32m     80\u001b[0m             \u001b[0;32mif\u001b[0m \u001b[0merr\u001b[0m\u001b[0;34m.\u001b[0m\u001b[0merrno\u001b[0m \u001b[0;34m==\u001b[0m \u001b[0merrno\u001b[0m\u001b[0;34m.\u001b[0m\u001b[0mENOENT\u001b[0m\u001b[0;34m:\u001b[0m\u001b[0;34m\u001b[0m\u001b[0;34m\u001b[0m\u001b[0m\n\u001b[0;32m---> 81\u001b[0;31m                 raise WebDriverException(\n\u001b[0m\u001b[1;32m     82\u001b[0m                     \"'%s' executable needs to be in PATH. %s\" % (\n\u001b[1;32m     83\u001b[0m                         os.path.basename(self.path), self.start_error_message)\n",
      "\u001b[0;31mWebDriverException\u001b[0m: Message: 'chromedriver.exe' executable needs to be in PATH. Please see https://sites.google.com/a/chromium.org/chromedriver/home\n"
     ]
    }
   ],
   "source": [
    "driver = webdriver.Chrome(executable_path='./chr_drv/chromedriver.exe')"
   ]
  },
  {
   "cell_type": "code",
   "execution_count": null,
   "id": "46d83201-0a45-4677-85f2-774e64f82004",
   "metadata": {},
   "outputs": [],
   "source": [
    "from requests import get\n",
    "#url que iremos analisar\n",
    "url = 'https://groceries.asda.com/cat/home-entertainment/_/102592'\n",
    "response = get(url)"
   ]
  },
  {
   "cell_type": "code",
   "execution_count": null,
   "id": "801a5b1a-44ca-4b73-95ef-71aa12ed95e7",
   "metadata": {},
   "outputs": [],
   "source": [
    "print(response.content)"
   ]
  },
  {
   "cell_type": "code",
   "execution_count": null,
   "id": "85892cae-a757-4ec4-b875-864fd1ad88d9",
   "metadata": {},
   "outputs": [],
   "source": [
    "# chamada da página, deve abrir também a página on browser controlado pelo Selenium\n",
    "driver.get('https://groceries.asda.com/cat/home-entertainment/_/102592')"
   ]
  },
  {
   "cell_type": "code",
   "execution_count": null,
   "id": "4d776e23-ce8a-4bec-9718-aff493e17006",
   "metadata": {},
   "outputs": [],
   "source": [
    "# utiliza o método que retorna uma lista com diversos elementos, através do nome da classe\n",
    "produtosClass = driver.find_elements_by_class_name('co-product__price')\n",
    "type(produtosClass)"
   ]
  },
  {
   "cell_type": "code",
   "execution_count": null,
   "id": "2691130b-eab9-43bd-a868-a6bcba73fdba",
   "metadata": {},
   "outputs": [],
   "source": [
    "print(len(produtosClass))\n",
    "# imprime os elementos da lista\n",
    "for i in range(len(produtosClass)):\n",
    "    print(produtosClass[i].text)"
   ]
  },
  {
   "cell_type": "code",
   "execution_count": null,
   "id": "7a6e81d9-0c35-4124-9420-b9a52f827d82",
   "metadata": {},
   "outputs": [],
   "source": [
    "/html/body/div[1]/div[2]/section/main/div[3]/ul/li[2]/div/div[3]/div[1]/div/strong\n",
    "/html/body/div[1]/div[2]/section/main/div[3]/ul/li[3]/div/div[3]/div[1]/div/strong"
   ]
  },
  {
   "cell_type": "code",
   "execution_count": null,
   "id": "43eb1b49-f6c6-4d92-9c10-77e7a02050b5",
   "metadata": {},
   "outputs": [],
   "source": [
    "produtosXpath = driver.find_elements_by_xpath('/html/body/div[1]/div[2]/section/main/div[3]/ul/li[*]/div/div[3]/div[1]/div/strong')\n",
    "print(len(produtosXpath), type(produtosXpath))\n",
    "produtosXpath[0].text"
   ]
  },
  {
   "cell_type": "code",
   "execution_count": null,
   "id": "4bd13051-8172-4d78-a308-b3c46f093b40",
   "metadata": {},
   "outputs": [],
   "source": [
    "#//*[@id=\"main-content\"]/main/div[6]/div[1]/ul/li[3]/div/div[2]/div[1]/h3/a\n",
    "produtosXpath = driver.find_elements_by_xpath('/html/body/div[1]/div[2]/section/main/div[3]/ul/li[*]/div/div[3]/div[1]/div/strong')\n",
    "print(len(produtosXpath))\n",
    "for i in range(len(produtosXpath)):\n",
    "    print(produtosXpath[i].text)"
   ]
  },
  {
   "cell_type": "code",
   "execution_count": null,
   "id": "2ef06ed6-b797-497d-b63f-0bd8bf707785",
   "metadata": {},
   "outputs": [],
   "source": [
    "#//*[@id=\"main-content\"]/main/div[6]/div[1]/ul/li[3]/div/div[2]/div[1]/h3/a\n",
    "#//*[@id=\"main-content\"]/main/div[6]/div[1]/ul/li[2]/div/div[2]/div[1]/h3/a\n",
    "\n",
    "produtosXpath = driver.find_elements_by_xpath('//*[@id=\"main-content\"]/main/div[6]/div[1]/ul/li[*]/div/div[2]/div[1]/h3/a')\n",
    "print(len(produtosXpath))\n",
    "for i in range(len(produtosXpath)):\n",
    "    print(produtosXpath[i].text)"
   ]
  },
  {
   "cell_type": "markdown",
   "id": "a4c9940c-e398-4c99-af94-f5d368af3992",
   "metadata": {},
   "source": [
    "## Exercício (tempo previsto: <15 min)\n",
    "- Imprima os preços dos produtos da 1a página"
   ]
  },
  {
   "cell_type": "code",
   "execution_count": null,
   "id": "2ecd2ff5-53c9-4bdd-935c-8d227fc420e4",
   "metadata": {},
   "outputs": [],
   "source": []
  }
 ],
 "metadata": {
  "kernelspec": {
   "display_name": "Python 3",
   "language": "python",
   "name": "python3"
  },
  "language_info": {
   "codemirror_mode": {
    "name": "ipython",
    "version": 3
   },
   "file_extension": ".py",
   "mimetype": "text/x-python",
   "name": "python",
   "nbconvert_exporter": "python",
   "pygments_lexer": "ipython3",
   "version": "3.9.5"
  }
 },
 "nbformat": 4,
 "nbformat_minor": 5
}
